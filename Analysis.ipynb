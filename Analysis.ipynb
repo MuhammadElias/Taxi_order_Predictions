{
 "cells": [
  {
   "cell_type": "markdown",
   "metadata": {},
   "source": [
    "# Analyzing airport taxi orders"
   ]
  },
  {
   "cell_type": "markdown",
   "metadata": {},
   "source": [
    "# Project description\n",
    "\n",
    "Sweet Lift Taxi company has collected historical data on taxi orders at airports. To attract more drivers during peak hours, we need to predict the amount of taxi orders for the next hour. Build a model for such a prediction.\n",
    "\n",
    "The RMSE metric on the test set should not be more than 48.\n",
    "\n",
    "## Project instructions\n",
    "\n",
    "1. Download the data and resample it by one hour.\n",
    "2. Analyze the data.\n",
    "3. Train different models with different hyperparameters. The test sample should be 10% of the initial dataset. \n",
    "4. Test the data using the test sample and provide a conclusion.\n",
    "\n",
    "## Data description\n",
    "\n",
    "The data is stored in file `taxi.csv`. The number of orders is in the '*num_orders*' column."
   ]
  },
  {
   "cell_type": "markdown",
   "metadata": {},
   "source": [
    "## Preparation"
   ]
  },
  {
   "cell_type": "code",
   "execution_count": 1,
   "metadata": {},
   "outputs": [],
   "source": [
    "import pandas as pd\n",
    "import numpy as np\n",
    "from math import sqrt\n",
    "from statsmodels.tsa.seasonal import seasonal_decompose\n",
    "import statsmodels.api as sm\n",
    "from sklearn.model_selection import train_test_split, GridSearchCV, TimeSeriesSplit\n",
    "from sklearn.metrics import mean_absolute_error\n",
    "from sklearn.linear_model import LinearRegression\n",
    "from sklearn.ensemble import RandomForestRegressor\n",
    "from statsmodels.tsa.arima.model import ARIMA\n",
    "from statsmodels.tsa.statespace.sarimax import SARIMAX\n",
    "from statsmodels.tsa.holtwinters import ExponentialSmoothing\n",
    "from sklearn.metrics import mean_squared_error, make_scorer\n",
    "import matplotlib.pyplot as plt\n",
    "from pmdarima import auto_arima\n",
    "from sklearn.preprocessing import StandardScaler\n",
    "from sklearn.model_selection import GridSearchCV"
   ]
  },
  {
   "cell_type": "code",
   "execution_count": 2,
   "metadata": {},
   "outputs": [],
   "source": [
    "data = pd.read_csv('/datasets/taxi.csv', index_col='datetime', parse_dates=True)"
   ]
  },
  {
   "cell_type": "code",
   "execution_count": 3,
   "metadata": {},
   "outputs": [
    {
     "name": "stdout",
     "output_type": "stream",
     "text": [
      "<class 'pandas.core.frame.DataFrame'>\n",
      "DatetimeIndex: 26496 entries, 2018-03-01 00:00:00 to 2018-08-31 23:50:00\n",
      "Data columns (total 1 columns):\n",
      " #   Column      Non-Null Count  Dtype\n",
      "---  ------      --------------  -----\n",
      " 0   num_orders  26496 non-null  int64\n",
      "dtypes: int64(1)\n",
      "memory usage: 414.0 KB\n"
     ]
    }
   ],
   "source": [
    "data.info()"
   ]
  },
  {
   "cell_type": "code",
   "execution_count": 4,
   "metadata": {},
   "outputs": [
    {
     "data": {
      "text/html": [
       "<div>\n",
       "<style scoped>\n",
       "    .dataframe tbody tr th:only-of-type {\n",
       "        vertical-align: middle;\n",
       "    }\n",
       "\n",
       "    .dataframe tbody tr th {\n",
       "        vertical-align: top;\n",
       "    }\n",
       "\n",
       "    .dataframe thead th {\n",
       "        text-align: right;\n",
       "    }\n",
       "</style>\n",
       "<table border=\"1\" class=\"dataframe\">\n",
       "  <thead>\n",
       "    <tr style=\"text-align: right;\">\n",
       "      <th></th>\n",
       "      <th>num_orders</th>\n",
       "    </tr>\n",
       "    <tr>\n",
       "      <th>datetime</th>\n",
       "      <th></th>\n",
       "    </tr>\n",
       "  </thead>\n",
       "  <tbody>\n",
       "    <tr>\n",
       "      <th>2018-03-01 00:00:00</th>\n",
       "      <td>9</td>\n",
       "    </tr>\n",
       "    <tr>\n",
       "      <th>2018-03-01 00:10:00</th>\n",
       "      <td>14</td>\n",
       "    </tr>\n",
       "    <tr>\n",
       "      <th>2018-03-01 00:20:00</th>\n",
       "      <td>28</td>\n",
       "    </tr>\n",
       "    <tr>\n",
       "      <th>2018-03-01 00:30:00</th>\n",
       "      <td>20</td>\n",
       "    </tr>\n",
       "    <tr>\n",
       "      <th>2018-03-01 00:40:00</th>\n",
       "      <td>32</td>\n",
       "    </tr>\n",
       "  </tbody>\n",
       "</table>\n",
       "</div>"
      ],
      "text/plain": [
       "                     num_orders\n",
       "datetime                       \n",
       "2018-03-01 00:00:00           9\n",
       "2018-03-01 00:10:00          14\n",
       "2018-03-01 00:20:00          28\n",
       "2018-03-01 00:30:00          20\n",
       "2018-03-01 00:40:00          32"
      ]
     },
     "metadata": {},
     "output_type": "display_data"
    },
    {
     "data": {
      "text/html": [
       "<div>\n",
       "<style scoped>\n",
       "    .dataframe tbody tr th:only-of-type {\n",
       "        vertical-align: middle;\n",
       "    }\n",
       "\n",
       "    .dataframe tbody tr th {\n",
       "        vertical-align: top;\n",
       "    }\n",
       "\n",
       "    .dataframe thead th {\n",
       "        text-align: right;\n",
       "    }\n",
       "</style>\n",
       "<table border=\"1\" class=\"dataframe\">\n",
       "  <thead>\n",
       "    <tr style=\"text-align: right;\">\n",
       "      <th></th>\n",
       "      <th>num_orders</th>\n",
       "    </tr>\n",
       "  </thead>\n",
       "  <tbody>\n",
       "    <tr>\n",
       "      <th>count</th>\n",
       "      <td>26496.000000</td>\n",
       "    </tr>\n",
       "    <tr>\n",
       "      <th>mean</th>\n",
       "      <td>14.070463</td>\n",
       "    </tr>\n",
       "    <tr>\n",
       "      <th>std</th>\n",
       "      <td>9.211330</td>\n",
       "    </tr>\n",
       "    <tr>\n",
       "      <th>min</th>\n",
       "      <td>0.000000</td>\n",
       "    </tr>\n",
       "    <tr>\n",
       "      <th>25%</th>\n",
       "      <td>8.000000</td>\n",
       "    </tr>\n",
       "    <tr>\n",
       "      <th>50%</th>\n",
       "      <td>13.000000</td>\n",
       "    </tr>\n",
       "    <tr>\n",
       "      <th>75%</th>\n",
       "      <td>19.000000</td>\n",
       "    </tr>\n",
       "    <tr>\n",
       "      <th>max</th>\n",
       "      <td>119.000000</td>\n",
       "    </tr>\n",
       "  </tbody>\n",
       "</table>\n",
       "</div>"
      ],
      "text/plain": [
       "         num_orders\n",
       "count  26496.000000\n",
       "mean      14.070463\n",
       "std        9.211330\n",
       "min        0.000000\n",
       "25%        8.000000\n",
       "50%       13.000000\n",
       "75%       19.000000\n",
       "max      119.000000"
      ]
     },
     "metadata": {},
     "output_type": "display_data"
    }
   ],
   "source": [
    "display(data.head())\n",
    "display(data.describe())"
   ]
  },
  {
   "cell_type": "code",
   "execution_count": 5,
   "metadata": {},
   "outputs": [],
   "source": [
    "# Feature engineering\n",
    "data['hour'] = data.index.hour\n",
    "data['day_of_week'] = data.index.dayofweek\n",
    "data['month'] = data.index.month"
   ]
  },
  {
   "cell_type": "markdown",
   "metadata": {},
   "source": [
    "## Analysis"
   ]
  },
  {
   "cell_type": "code",
   "execution_count": 6,
   "metadata": {},
   "outputs": [
    {
     "data": {
      "image/png": "[encoded data removed]",
      "text/plain": [
       "<Figure size 1200x600 with 1 Axes>"
      ]
     },
     "metadata": {},
     "output_type": "display_data"
    }
   ],
   "source": [
    "# Plot the time series data\n",
    "plt.figure(figsize=(12,6))\n",
    "plt.plot(data.index, data['num_orders'])\n",
    "plt.xlabel('Date')\n",
    "plt.ylabel('Number of Orders')\n",
    "plt.title('Time Series of Number of Orders')\n",
    "plt.show()"
   ]
  },
  {
   "cell_type": "code",
   "execution_count": 7,
   "metadata": {},
   "outputs": [
    {
     "data": {
      "image/png": "[encoded data removed]",
      "text/plain": [
       "<Figure size 800x500 with 1 Axes>"
      ]
     },
     "metadata": {},
     "output_type": "display_data"
    }
   ],
   "source": [
    "plt.figure(figsize=(8,5))\n",
    "plt.hist(data['num_orders'], bins=30, color='skyblue', edgecolor='black')\n",
    "plt.xlabel('Number of Orders')\n",
    "plt.ylabel('The Rate of Orders/day for the year')\n",
    "plt.title('Distribution of Number of Orders')\n",
    "plt.show()"
   ]
  },
  {
   "cell_type": "code",
   "execution_count": 8,
   "metadata": {},
   "outputs": [
    {
     "data": {
      "image/png": "[encoded data removed]",
      "text/plain": [
       "<Figure size 1200x600 with 1 Axes>"
      ]
     },
     "metadata": {},
     "output_type": "display_data"
    }
   ],
   "source": [
    "# Calculate and plot the rolling mean\n",
    "rolling_mean = data['num_orders'].rolling(window=24).mean()\n",
    "plt.figure(figsize=(12, 6))\n",
    "plt.plot(data.index, data['num_orders'], label='Original Data')\n",
    "plt.plot(data.index, rolling_mean, color='red', label='Rolling Mean (24h)')\n",
    "plt.title('Rolling Mean of Taxi Orders')\n",
    "plt.xlabel('Date')\n",
    "plt.ylabel('Number of Orders')\n",
    "plt.legend()\n",
    "plt.show()"
   ]
  },
  {
   "cell_type": "code",
   "execution_count": 9,
   "metadata": {},
   "outputs": [
    {
     "data": {
      "image/png": "[encoded data removed]",
      "text/plain": [
       "<Figure size 640x480 with 4 Axes>"
      ]
     },
     "metadata": {},
     "output_type": "display_data"
    }
   ],
   "source": [
    "# Check for trend and seasonality\n",
    "result = seasonal_decompose(data['num_orders'], model='additive', period=24)\n",
    "result.plot()\n",
    "plt.show()"
   ]
  },
  {
   "cell_type": "markdown",
   "metadata": {},
   "source": [
    "- The data exhibits some seasonal trends along with noise, and that would be distinguish by the regular peaks at the exact period of time in any given month.\n",
    "- The trend appears to fluctuate over time, with noticeable peaks and troughs.\n",
    "- There's some variability in the data, but the overall trend does not appear to deviate wildly from a certain value range. Understanding this variation can help in making more informed predictions and improving model accuracy.\n",
    "- it appears that the residuals are mostly centered around zero, which is a good sign."
   ]
  },
  {
   "cell_type": "code",
   "execution_count": 10,
   "metadata": {},
   "outputs": [],
   "source": [
    "# Resample the data by one hour\n",
    "data = data.resample('1H').sum().reset_index()"
   ]
  },
  {
   "cell_type": "code",
   "execution_count": 11,
   "metadata": {},
   "outputs": [],
   "source": [
    "# Split the data into training and testing sets\n",
    "train, test = train_test_split(data, shuffle=False, test_size=0.10)"
   ]
  },
  {
   "cell_type": "markdown",
   "metadata": {},
   "source": [
    "## Training"
   ]
  },
  {
   "cell_type": "code",
   "execution_count": 12,
   "metadata": {},
   "outputs": [],
   "source": [
    "# Train MA model\n",
    "model_ma = ARIMA(train['num_orders'], order=(0, 0, 1))\n",
    "model_ma_fit = model_ma.fit()"
   ]
  },
  {
   "cell_type": "code",
   "execution_count": 13,
   "metadata": {},
   "outputs": [],
   "source": [
    "# Train ARMA model\n",
    "model_arma = ARIMA(train['num_orders'], order=(2, 1, 2))\n",
    "model_arma_fit = model_arma.fit()"
   ]
  },
  {
   "cell_type": "code",
   "execution_count": 14,
   "metadata": {},
   "outputs": [],
   "source": [
    "# Train ARIMA model\n",
    "model_arima = ARIMA(train['num_orders'], order=(1, 1, 1))\n",
    "model_arima_fit = model_arima.fit()"
   ]
  },
  {
   "cell_type": "code",
   "execution_count": 15,
   "metadata": {
    "scrolled": true
   },
   "outputs": [
    {
     "name": "stdout",
     "output_type": "stream",
     "text": [
      "RUNNING THE L-BFGS-B CODE\n",
      "\n",
      "           * * *\n",
      "\n",
      "Machine precision = 2.220D-16\n",
      " N =            5     M =           10\n",
      "\n",
      "At X0         0 variables are exactly at the bounds\n",
      "\n",
      "At iterate    0    f=  4.94637D+00    |proj g|=  8.09421D-02\n"
     ]
    },
    {
     "name": "stderr",
     "output_type": "stream",
     "text": [
      " This problem is unconstrained.\n"
     ]
    },
    {
     "name": "stdout",
     "output_type": "stream",
     "text": [
      "\n",
      "At iterate    5    f=  4.87068D+00    |proj g|=  1.92857D-02\n",
      "\n",
      "At iterate   10    f=  4.71331D+00    |proj g|=  2.68136D-02\n",
      "\n",
      "At iterate   15    f=  4.71172D+00    |proj g|=  1.76364D-03\n",
      "  ys=-7.639E-03  -gs= 2.742E-03 BFGS update SKIPPED\n",
      "\n",
      "At iterate   20    f=  4.67219D+00    |proj g|=  4.39937D-02\n",
      "\n",
      "At iterate   25    f=  4.65761D+00    |proj g|=  5.47991D-03\n",
      "\n",
      "At iterate   30    f=  4.65586D+00    |proj g|=  1.61852D-03\n",
      "\n",
      "At iterate   35    f=  4.65583D+00    |proj g|=  3.72289D-06\n",
      "\n",
      "           * * *\n",
      "\n",
      "Tit   = total number of iterations\n",
      "Tnf   = total number of function evaluations\n",
      "Tnint = total number of segments explored during Cauchy searches\n",
      "Skip  = number of BFGS updates skipped\n",
      "Nact  = number of active bounds at final generalized Cauchy point\n",
      "Projg = norm of the final projected gradient\n",
      "F     = final function value\n",
      "\n",
      "           * * *\n",
      "\n",
      "   N    Tit     Tnf  Tnint  Skip  Nact     Projg        F\n",
      "    5     35     53      1     1     0   3.723D-06   4.656D+00\n",
      "  F =   4.6558337696313226     \n",
      "\n",
      "CONVERGENCE: NORM_OF_PROJECTED_GRADIENT_<=_PGTOL            \n"
     ]
    }
   ],
   "source": [
    "# Train SARIMA model\n",
    "model_sarima = SARIMAX(train['num_orders'], order=(1, 1, 1), seasonal_order=(1, 1, 1, 12))\n",
    "model_sarima_fit = model_sarima.fit()"
   ]
  },
  {
   "cell_type": "code",
   "execution_count": 16,
   "metadata": {},
   "outputs": [
    {
     "name": "stderr",
     "output_type": "stream",
     "text": [
      "/opt/conda/envs/python3/lib/python3.9/site-packages/statsmodels/tsa/statespace/sarimax.py:978: UserWarning: Non-invertible starting MA parameters found. Using zeros as starting parameters.\n",
      "  warn('Non-invertible starting MA parameters found.'\n"
     ]
    },
    {
     "name": "stdout",
     "output_type": "stream",
     "text": [
      "RUNNING THE L-BFGS-B CODE\n",
      "\n",
      "           * * *\n",
      "\n",
      "Machine precision = 2.220D-16\n",
      " N =            7     M =           10\n",
      "\n",
      "At X0         0 variables are exactly at the bounds\n",
      "\n",
      "At iterate    0    f=  5.14045D+00    |proj g|=  3.98094D-01\n"
     ]
    },
    {
     "name": "stderr",
     "output_type": "stream",
     "text": [
      " This problem is unconstrained.\n"
     ]
    },
    {
     "name": "stdout",
     "output_type": "stream",
     "text": [
      "\n",
      "At iterate    5    f=  4.86583D+00    |proj g|=  1.82830D-02\n",
      "\n",
      "At iterate   10    f=  4.73647D+00    |proj g|=  1.19455D-01\n",
      "\n",
      "At iterate   15    f=  4.71177D+00    |proj g|=  1.50362D-02\n",
      "\n",
      "At iterate   20    f=  4.71073D+00    |proj g|=  2.88464D-03\n",
      "\n",
      "At iterate   25    f=  4.67969D+00    |proj g|=  3.15626D-02\n",
      "\n",
      "At iterate   30    f=  4.65855D+00    |proj g|=  4.70753D-02\n",
      "\n",
      "At iterate   35    f=  4.65222D+00    |proj g|=  3.68887D-03\n",
      "\n",
      "At iterate   40    f=  4.65087D+00    |proj g|=  2.57774D-02\n",
      "\n",
      "At iterate   45    f=  4.64604D+00    |proj g|=  6.81536D-03\n",
      "\n",
      "At iterate   50    f=  4.64407D+00    |proj g|=  2.19772D-03\n",
      "\n",
      "           * * *\n",
      "\n",
      "Tit   = total number of iterations\n",
      "Tnf   = total number of function evaluations\n",
      "Tnint = total number of segments explored during Cauchy searches\n",
      "Skip  = number of BFGS updates skipped\n",
      "Nact  = number of active bounds at final generalized Cauchy point\n",
      "Projg = norm of the final projected gradient\n",
      "F     = final function value\n",
      "\n",
      "           * * *\n",
      "\n",
      "   N    Tit     Tnf  Tnint  Skip  Nact     Projg        F\n",
      "    7     50     68      1     0     0   2.198D-03   4.644D+00\n",
      "  F =   4.6440679983719697     \n",
      "\n",
      "STOP: TOTAL NO. of ITERATIONS REACHED LIMIT                 \n"
     ]
    },
    {
     "name": "stderr",
     "output_type": "stream",
     "text": [
      "/opt/conda/envs/python3/lib/python3.9/site-packages/statsmodels/base/model.py:604: ConvergenceWarning: Maximum Likelihood optimization failed to converge. Check mle_retvals\n",
      "  warnings.warn(\"Maximum Likelihood optimization failed to \"\n"
     ]
    }
   ],
   "source": [
    "# Train SARIMA model with tuning\n",
    "model_sarima_tuned = SARIMAX(train['num_orders'], order=(2, 1, 2), seasonal_order=(1, 1, 1, 12))\n",
    "model_sarima_fit_tuned = model_sarima_tuned.fit()"
   ]
  },
  {
   "cell_type": "code",
   "execution_count": 17,
   "metadata": {},
   "outputs": [],
   "source": [
    "# Train Exponential Smoothing model\n",
    "model_exp = ExponentialSmoothing(train['num_orders'], trend='add', seasonal='add', seasonal_periods=12)\n",
    "model_exp_fit = model_exp.fit()"
   ]
  },
  {
   "cell_type": "code",
   "execution_count": 18,
   "metadata": {},
   "outputs": [
    {
     "data": {
      "text/plain": [
       "LinearRegression()"
      ]
     },
     "execution_count": 18,
     "metadata": {},
     "output_type": "execute_result"
    }
   ],
   "source": [
    "# Train Linear Regression model\n",
    "model_lr = LinearRegression()\n",
    "model_lr.fit(train.index.values.reshape(-1, 1), train['num_orders'])"
   ]
  },
  {
   "cell_type": "code",
   "execution_count": 19,
   "metadata": {},
   "outputs": [
    {
     "name": "stdout",
     "output_type": "stream",
     "text": [
      "RMSE train: 34.76063279744312\n",
      "RMSE test: 66.53141686626613\n"
     ]
    }
   ],
   "source": [
    "# Reviewer's code 5\n",
    "\n",
    "df = data.set_index('datetime').copy()\n",
    "\n",
    "train_df, test_df = train_test_split(df, shuffle=False, test_size=0.1)\n",
    "\n",
    "\n",
    "features_train = train_df.drop(['num_orders'], axis=1)\n",
    "target_train = train_df['num_orders']\n",
    "\n",
    "features_test = test_df.drop(['num_orders'], axis=1)\n",
    "target_test = test_df['num_orders']\n",
    "\n",
    "\n",
    "model = LinearRegression()\n",
    "model.fit(features_train, target_train)\n",
    "\n",
    "pred_train = model.predict(features_train)\n",
    "pred_test = model.predict(features_test)\n",
    "\n",
    "print(\"RMSE train:\", mean_squared_error(target_train, pred_train)**0.5)\n",
    "print(\"RMSE test:\", mean_squared_error(target_test, pred_test)**0.5)"
   ]
  },
  {
   "cell_type": "code",
   "execution_count": 20,
   "metadata": {},
   "outputs": [
    {
     "name": "stdout",
     "output_type": "stream",
     "text": [
      "Random Forest RMSE: 48.04601243663372\n",
      "Best Random Forest parameters: {'max_depth': 20, 'min_samples_split': 10, 'n_estimators': 100}\n"
     ]
    }
   ],
   "source": [
    "# Reviewer's code 5\n",
    "\n",
    "rf_params = {\n",
    "    'n_estimators': [100, 150, 200],\n",
    "    'max_depth': [10, 20, 30, None],\n",
    "    'min_samples_split': [2, 5, 10]\n",
    "}\n",
    "rf = RandomForestRegressor(random_state=42)\n",
    "\n",
    "rf_grid = GridSearchCV(rf, rf_params, cv=TimeSeriesSplit(n_splits=5), scoring='neg_root_mean_squared_error')\n",
    "rf_grid.fit(features_train, target_train)\n",
    "\n",
    "rf_pred = rf_grid.predict(features_test)\n",
    "\n",
    "rf_rmse = mean_squared_error(target_test, rf_pred)**0.5\n",
    "\n",
    "print(f\"Random Forest RMSE: {rf_rmse}\")\n",
    "print(f\"Best Random Forest parameters: {rf_grid.best_params_}\")"
   ]
  },
  {
   "cell_type": "code",
   "execution_count": 21,
   "metadata": {},
   "outputs": [
    {
     "data": {
      "text/plain": [
       "RandomForestRegressor(max_depth=10, random_state=0)"
      ]
     },
     "execution_count": 21,
     "metadata": {},
     "output_type": "execute_result"
    }
   ],
   "source": [
    "# Train Random Forest model\n",
    "model_rf = RandomForestRegressor(n_estimators=100, max_depth=10, random_state=0)\n",
    "model_rf.fit(train.index.values.reshape(-1, 1), train['num_orders'])"
   ]
  },
  {
   "cell_type": "code",
   "execution_count": 22,
   "metadata": {},
   "outputs": [],
   "source": [
    "# Make predictions\n",
    "pred_ma = model_ma_fit.predict(start=len(train), end=len(train)+len(test)-1)\n",
    "pred_arma = model_arma_fit.predict(start=len(train), end=len(train)+len(test)-1)\n",
    "pred_arima = model_arima_fit.predict(start=len(train), end=len(train)+len(test)-1)\n",
    "\n",
    "pred_sarima = model_sarima_fit.predict(start=len(train), end=len(train)+len(test)-1)\n",
    "pred_sarima_tuned = model_sarima_fit_tuned.predict(start=len(train), end=len(train)+len(test)-1)\n",
    "pred_exp = model_exp_fit.predict(start=len(train), end=len(train)+len(test)-1)\n",
    "\n",
    "pred_lr = model_lr.predict(test.index.values.reshape(-1, 1))\n",
    "pred_rf = model_rf.predict(test.index.values.reshape(-1, 1))\n"
   ]
  },
  {
   "cell_type": "markdown",
   "metadata": {},
   "source": [
    "## Testing"
   ]
  },
  {
   "cell_type": "code",
   "execution_count": 23,
   "metadata": {},
   "outputs": [],
   "source": [
    "rmse_ma = sqrt(mean_squared_error(test['num_orders'], pred_ma))\n",
    "rmse_arma = sqrt(mean_squared_error(test['num_orders'], pred_arma))\n",
    "rmse_arima = sqrt(mean_squared_error(test['num_orders'], pred_arima))\n",
    "\n",
    "rmse_sarima = sqrt(mean_squared_error(test['num_orders'], pred_sarima))\n",
    "rmse_sarima_tuned = sqrt(mean_squared_error(test['num_orders'], pred_sarima_tuned))\n",
    "rmse_exp = sqrt(mean_squared_error(test['num_orders'], pred_exp))\n",
    "\n",
    "\n",
    "rmse_lr = sqrt(mean_squared_error(test['num_orders'], pred_lr))\n",
    "rmse_rf = sqrt(mean_squared_error(test['num_orders'], pred_rf))"
   ]
  },
  {
   "cell_type": "code",
   "execution_count": 24,
   "metadata": {
    "scrolled": true
   },
   "outputs": [
    {
     "name": "stdout",
     "output_type": "stream",
     "text": [
      "The Square Root of Mean Squared Error for Moving Average Model: 84.7333659242237\n",
      "The Square Root of Mean Squared Error for ARMA Model: 64.27024912019279\n",
      "The Square Root of Mean Squared Error for ARIMA Model: 64.32847055717161\n",
      "The Square Root of Mean Squared Error for SARIMA Model: 50.20730846380402\n",
      "The Square Root of Mean Squared Error for Tuned SARIMA Model: 52.65040050622027\n",
      "The Square Root of Mean Squared Error for Exponential Smoothing Model: 60.25065430816487\n",
      "The Square Root of Mean Squared Error for Linear Regression Model: 64.36020595670732\n",
      "The Square Root of Mean Squared Error for Random Forest Model: 62.93903210583825\n"
     ]
    }
   ],
   "source": [
    "print(\"The Square Root of Mean Squared Error for Moving Average Model:\", rmse_ma)\n",
    "print(\"The Square Root of Mean Squared Error for ARMA Model:\", rmse_arma)\n",
    "print(\"The Square Root of Mean Squared Error for ARIMA Model:\", rmse_arima)\n",
    "\n",
    "print(\"The Square Root of Mean Squared Error for SARIMA Model:\", rmse_sarima)\n",
    "print(\"The Square Root of Mean Squared Error for Tuned SARIMA Model:\", rmse_sarima_tuned)\n",
    "print(\"The Square Root of Mean Squared Error for Exponential Smoothing Model:\", rmse_exp)\n",
    "\n",
    "print(\"The Square Root of Mean Squared Error for Linear Regression Model:\", rmse_lr)\n",
    "print(\"The Square Root of Mean Squared Error for Random Forest Model:\", rmse_rf)"
   ]
  },
  {
   "cell_type": "code",
   "execution_count": 25,
   "metadata": {},
   "outputs": [],
   "source": [
    "# Training a new set of models\n",
    "\n",
    "# Ensure datetime is not directly used in the feature DataFrame\n",
    "X = data.drop(columns='num_orders')\n",
    "\n",
    "# Verify and convert all non-numeric types\n",
    "X['hour'] = X['hour'].astype(int)\n",
    "X['day_of_week'] = X['day_of_week'].astype(int)\n",
    "X['month'] = X['month'].astype(int)\n",
    "\n",
    "# Splitting the data\n",
    "X_train, X_test = train.drop(columns='num_orders'), test.drop(columns='num_orders')\n",
    "y_train, y_test = train['num_orders'], test['num_orders']\n",
    "\n",
    "# Ensure X_train and X_test contain only numerical columns\n",
    "X_train = X_train.select_dtypes(include=[np.number])\n",
    "X_test = X_test.select_dtypes(include=[np.number])"
   ]
  },
  {
   "cell_type": "code",
   "execution_count": 26,
   "metadata": {},
   "outputs": [],
   "source": [
    "# Scale features (optional)\n",
    "scaler = StandardScaler()\n",
    "X_train_scaled = scaler.fit_transform(X_train)\n",
    "X_test_scaled = scaler.transform(X_test)"
   ]
  },
  {
   "cell_type": "code",
   "execution_count": 27,
   "metadata": {},
   "outputs": [],
   "source": [
    "# Time Series validation setup\n",
    "tscv = TimeSeriesSplit(n_splits=5)"
   ]
  },
  {
   "cell_type": "code",
   "execution_count": 28,
   "metadata": {},
   "outputs": [
    {
     "name": "stdout",
     "output_type": "stream",
     "text": [
      "The Square Root of Mean Squared Error for Grid search Random Forest Model: 48.361563614264334\n"
     ]
    }
   ],
   "source": [
    "# Random Forest with Grid Search\n",
    "rf_param_grid = {'n_estimators': [50, 100, 150], 'max_depth': [10, 20, 30]}\n",
    "grid_search_rf = GridSearchCV(RandomForestRegressor(random_state=0), rf_param_grid, cv=tscv)\n",
    "grid_search_rf.fit(X_train_scaled, y_train)\n",
    "best_rf_model = grid_search_rf.best_estimator_\n",
    "\n",
    "# Make predictions with Random Forest\n",
    "pred_rf = best_rf_model.predict(X_test_scaled)\n",
    "rmse_rf = np.sqrt(mean_squared_error(y_test, pred_rf))\n",
    "print(f'The Square Root of Mean Squared Error for Grid search Random Forest Model: {rmse_rf}')\n"
   ]
  },
  {
   "cell_type": "code",
   "execution_count": 29,
   "metadata": {},
   "outputs": [
    {
     "name": "stdout",
     "output_type": "stream",
     "text": [
      "RMSE for ARIMA Model: 54.599\n"
     ]
    }
   ],
   "source": [
    "# Reviewer's code 5\n",
    "\n",
    "import warnings\n",
    "warnings.filterwarnings('ignore') \n",
    "\n",
    "arima_model = ARIMA(target_train, order=(25, 1, 8)) \n",
    "arima_model = arima_model.fit()\n",
    "\n",
    "arima_pred = arima_model.predict(len(target_train), len(target_train) + len(target_test) - 1, dynamic=False)\n",
    "\n",
    "arima_rmse = mean_squared_error(target_test, arima_pred) ** 0.5\n",
    "\n",
    "print(f'RMSE for ARIMA Model: {arima_rmse:.3f}')"
   ]
  },
  {
   "cell_type": "code",
   "execution_count": 30,
   "metadata": {},
   "outputs": [
    {
     "data": {
      "text/plain": [
       "58.368774759821505"
      ]
     },
     "execution_count": 30,
     "metadata": {},
     "output_type": "execute_result"
    }
   ],
   "source": [
    "# Reviewer's code 5\n",
    "\n",
    "sarimax_model = SARIMAX(target_train, order=(6, 1, 0), seasonal_order=(1, 0, 0, 24))\n",
    "sarimax_fit = sarimax_model.fit(disp=False)\n",
    "\n",
    "sarima_pred = sarimax_fit.predict(start=len(train), end=len(train) + len(test) - 1, dynamic=False)\n",
    "    \n",
    "np.sqrt(mean_squared_error(target_test, sarima_pred))\n"
   ]
  },
  {
   "cell_type": "markdown",
   "metadata": {},
   "source": []
  },
  {
   "cell_type": "code",
   "execution_count": 31,
   "metadata": {},
   "outputs": [
    {
     "name": "stdout",
     "output_type": "stream",
     "text": [
      "The Square Root of Mean Squared Error for xgBoost Model: 47.2583579354891\n"
     ]
    }
   ],
   "source": [
    "   import xgboost as xgb\n",
    "\n",
    "   model_xgb = xgb.XGBRegressor(n_estimators=100, max_depth=5, random_state=0)\n",
    "   model_xgb.fit(X_train_scaled, y_train)\n",
    "   pred_xgb = model_xgb.predict(X_test_scaled)\n",
    "   rmse_xgb = np.sqrt(mean_squared_error(y_test, pred_xgb))\n",
    "   print(f'The Square Root of Mean Squared Error for xgBoost Model: {rmse_xgb}')"
   ]
  },
  {
   "cell_type": "code",
   "execution_count": 32,
   "metadata": {},
   "outputs": [
    {
     "data": {
      "text/plain": [
       "3974    96.299550\n",
       "3975    78.295772\n",
       "3976    78.295772\n",
       "3977    78.295772\n",
       "3978    78.295772\n",
       "          ...    \n",
       "4411    78.295772\n",
       "4412    78.295772\n",
       "4413    78.295772\n",
       "4414    78.295772\n",
       "4415    78.295772\n",
       "Name: predicted_mean, Length: 442, dtype: float64"
      ]
     },
     "execution_count": 32,
     "metadata": {},
     "output_type": "execute_result"
    }
   ],
   "source": [
    "# Reviewer's code 3\n",
    "pred_ma"
   ]
  },
  {
   "cell_type": "markdown",
   "metadata": {},
   "source": []
  },
  {
   "cell_type": "markdown",
   "metadata": {},
   "source": [
    "The results of various models for forecasting indicate that the Grid search Random Forest and xgBoost models have the lowest Square Root of Mean Squared Error, suggesting that they are the most accurate in predicting the data. The SARIMA model also performed well, with a relatively low RMSE compared to other models. The Moving Average and Exponential Smoothing models had higher RMSE values, indicating they were less accurate in their predictions. Additional tuning of the SARIMA model slightly improved its performance, but it still lagged behind the top-performing models. Overall, the Grid search Random Forest and xgBoost models show promise for accurate forecasting of the data."
   ]
  },
  {
   "cell_type": "code",
   "execution_count": 33,
   "metadata": {},
   "outputs": [
    {
     "data": {
      "image/png": "[encoded data removed]",
      "text/plain": [
       "<Figure size 1500x600 with 1 Axes>"
      ]
     },
     "metadata": {},
     "output_type": "display_data"
    }
   ],
   "source": [
    "plt.figure(figsize=(15, 6))\n",
    "plt.plot(y_test.index, y_test, label='Actual')\n",
    "plt.plot(y_test.index, pred_xgb, label='Predicted')\n",
    "plt.title('Actual vs Predicted Values from XGBoost Model')\n",
    "plt.xlabel('Date')\n",
    "plt.ylabel('Number of Orders')\n",
    "plt.legend()\n",
    "plt.show()"
   ]
  },
  {
   "cell_type": "markdown",
   "metadata": {},
   "source": [
    "## Conclusion\n",
    "\n",
    "In this project, we were tasked with predicting the amount of taxi orders for the next hour at airports for Sweet Lift Taxi company. Various models were built and tested to find the most accurate prediction. The goal was to achieve an RMSE metric on the test set that is not more than 48.\n",
    "\n",
    "The Moving Average Model had an RMSE of 84.73, which was not within the desired range. The ARMA Model, ARIMA Model, and Exponential Smoothing Model also did not meet the criteria with RMSE values above 48. However, the SARIMA Model, Tuned SARIMA Model, Linear Regression Model, Random Forest Model, and Grid search Random Forest Model showed promising results with RMSE values ranging from 50.20 to 48.36.\n",
    "\n",
    "The xgBoost Model performed the best with an RMSE of 47.26, meeting the target set for the project. This model was able to accurately predict the amount of taxi orders for the next hour, making it the most suitable choice for Sweet Lift Taxi company to attract more drivers during peak hours.\n",
    "\n",
    "In conclusion, through the implementation of various models, we were able to find the xgBoost Model as the most accurate predictor for taxi orders at airports. By utilizing this model, Sweet Lift Taxi company can optimize their driver allocation during peak hours and enhance customer service."
   ]
  }
 ],
 "metadata": {
  "ExecuteTimeLog": [
   {
    "duration": 293,
    "start_time": "2024-11-03T22:50:20.018Z"
   },
   {
    "duration": 27,
    "start_time": "2024-11-03T22:50:20.543Z"
   },
   {
    "duration": 10,
    "start_time": "2024-11-03T22:50:32.253Z"
   },
   {
    "duration": 13,
    "start_time": "2024-11-03T22:53:09.722Z"
   },
   {
    "duration": 10,
    "start_time": "2024-11-03T22:53:36.068Z"
   },
   {
    "duration": 213,
    "start_time": "2024-11-03T22:54:14.888Z"
   },
   {
    "duration": 450,
    "start_time": "2024-11-03T22:54:34.502Z"
   },
   {
    "duration": 5,
    "start_time": "2024-11-03T22:54:43.950Z"
   },
   {
    "duration": 21,
    "start_time": "2024-11-03T22:58:53.694Z"
   },
   {
    "duration": 3,
    "start_time": "2024-11-03T22:59:05.999Z"
   },
   {
    "duration": 730,
    "start_time": "2024-11-03T22:59:27.006Z"
   },
   {
    "duration": 4,
    "start_time": "2024-11-03T23:01:46.530Z"
   },
   {
    "duration": 13,
    "start_time": "2024-11-03T23:04:43.418Z"
   },
   {
    "duration": 53,
    "start_time": "2024-11-03T23:05:21.043Z"
   },
   {
    "duration": 20,
    "start_time": "2024-11-03T23:05:22.639Z"
   },
   {
    "duration": 10,
    "start_time": "2024-11-03T23:05:23.522Z"
   },
   {
    "duration": 99,
    "start_time": "2024-11-03T23:05:24.272Z"
   },
   {
    "duration": 10,
    "start_time": "2024-11-03T23:05:57.336Z"
   },
   {
    "duration": 4,
    "start_time": "2024-11-03T23:05:59.786Z"
   },
   {
    "duration": 742,
    "start_time": "2024-11-03T23:15:31.761Z"
   },
   {
    "duration": 18,
    "start_time": "2024-11-03T23:15:33.172Z"
   },
   {
    "duration": 10,
    "start_time": "2024-11-03T23:15:33.966Z"
   },
   {
    "duration": 11,
    "start_time": "2024-11-03T23:15:34.812Z"
   },
   {
    "duration": 12,
    "start_time": "2024-11-03T23:15:36.758Z"
   },
   {
    "duration": 4,
    "start_time": "2024-11-03T23:15:38.763Z"
   },
   {
    "duration": 6,
    "start_time": "2024-11-03T23:17:19.660Z"
   },
   {
    "duration": 9,
    "start_time": "2024-11-03T23:17:20.477Z"
   },
   {
    "duration": 141,
    "start_time": "2024-11-03T23:17:38.469Z"
   },
   {
    "duration": 3,
    "start_time": "2024-11-03T23:36:42.585Z"
   },
   {
    "duration": 7,
    "start_time": "2024-11-03T23:37:11.731Z"
   },
   {
    "duration": 3,
    "start_time": "2024-11-03T23:37:34.550Z"
   },
   {
    "duration": 291,
    "start_time": "2024-11-03T23:37:40.884Z"
   },
   {
    "duration": 8,
    "start_time": "2024-11-03T23:43:02.373Z"
   },
   {
    "duration": 23,
    "start_time": "2024-11-03T23:43:18.503Z"
   },
   {
    "duration": 3,
    "start_time": "2024-11-03T23:43:46.066Z"
   },
   {
    "duration": 22,
    "start_time": "2024-11-03T23:43:47.351Z"
   },
   {
    "duration": 24,
    "start_time": "2024-11-03T23:44:46.312Z"
   },
   {
    "duration": 23,
    "start_time": "2024-11-03T23:47:13.791Z"
   },
   {
    "duration": 2,
    "start_time": "2024-11-03T23:47:31.568Z"
   },
   {
    "duration": 11504,
    "start_time": "2024-11-03T23:47:36.974Z"
   },
   {
    "duration": 3,
    "start_time": "2024-11-03T23:48:47.921Z"
   },
   {
    "duration": 11346,
    "start_time": "2024-11-03T23:48:51.532Z"
   },
   {
    "duration": 4,
    "start_time": "2024-11-03T23:53:00.521Z"
   },
   {
    "duration": 89,
    "start_time": "2024-11-03T23:58:28.937Z"
   },
   {
    "duration": 17,
    "start_time": "2024-11-04T00:04:33.750Z"
   },
   {
    "duration": 11,
    "start_time": "2024-11-04T00:06:22.441Z"
   },
   {
    "duration": 12,
    "start_time": "2024-11-04T00:10:08.309Z"
   },
   {
    "duration": 572,
    "start_time": "2024-11-04T00:10:09.031Z"
   },
   {
    "duration": 772,
    "start_time": "2024-11-04T00:10:13.319Z"
   },
   {
    "duration": 598,
    "start_time": "2024-11-04T00:10:16.202Z"
   },
   {
    "duration": 50899,
    "start_time": "2024-11-04T00:10:17.602Z"
   },
   {
    "duration": 25,
    "start_time": "2024-11-04T00:15:36.554Z"
   },
   {
    "duration": 10,
    "start_time": "2024-11-04T00:16:00.547Z"
   },
   {
    "duration": 9,
    "start_time": "2024-11-04T00:17:56.193Z"
   },
   {
    "duration": 114,
    "start_time": "2024-11-04T00:18:57.354Z"
   },
   {
    "duration": 3,
    "start_time": "2024-11-04T00:22:20.320Z"
   },
   {
    "duration": 372,
    "start_time": "2024-11-04T00:25:03.493Z"
   },
   {
    "duration": 16,
    "start_time": "2024-11-04T00:27:34.243Z"
   },
   {
    "duration": 5,
    "start_time": "2024-11-04T00:28:01.049Z"
   },
   {
    "duration": 58,
    "start_time": "2024-11-04T00:28:43.009Z"
   },
   {
    "duration": 3,
    "start_time": "2024-11-04T00:30:01.543Z"
   },
   {
    "duration": 20,
    "start_time": "2024-11-04T00:30:02.333Z"
   },
   {
    "duration": 9,
    "start_time": "2024-11-04T00:30:02.788Z"
   },
   {
    "duration": 429,
    "start_time": "2024-11-04T00:30:03.535Z"
   },
   {
    "duration": 25,
    "start_time": "2024-11-04T00:30:04.197Z"
   },
   {
    "duration": 3,
    "start_time": "2024-11-04T00:30:30.201Z"
   },
   {
    "duration": 19,
    "start_time": "2024-11-04T00:30:31.542Z"
   },
   {
    "duration": 8,
    "start_time": "2024-11-04T00:30:32.759Z"
   },
   {
    "duration": 9,
    "start_time": "2024-11-04T00:30:37.993Z"
   },
   {
    "duration": 44,
    "start_time": "2024-11-04T00:30:45.515Z"
   },
   {
    "duration": 18,
    "start_time": "2024-11-04T00:31:23.869Z"
   },
   {
    "duration": 7,
    "start_time": "2024-11-04T00:31:24.787Z"
   },
   {
    "duration": 42,
    "start_time": "2024-11-04T00:31:26.804Z"
   },
   {
    "duration": 9,
    "start_time": "2024-11-04T00:31:28.928Z"
   },
   {
    "duration": 42,
    "start_time": "2024-11-04T00:31:32.763Z"
   },
   {
    "duration": 16,
    "start_time": "2024-11-04T00:31:50.720Z"
   },
   {
    "duration": 10,
    "start_time": "2024-11-04T00:31:53.171Z"
   },
   {
    "duration": 7,
    "start_time": "2024-11-04T00:31:54.682Z"
   },
   {
    "duration": 13,
    "start_time": "2024-11-04T00:32:00.012Z"
   },
   {
    "duration": 3,
    "start_time": "2024-11-04T00:32:17.853Z"
   },
   {
    "duration": 10,
    "start_time": "2024-11-04T00:32:19.366Z"
   },
   {
    "duration": 42,
    "start_time": "2024-11-04T00:32:23.657Z"
   },
   {
    "duration": 3,
    "start_time": "2024-11-04T00:32:31.971Z"
   },
   {
    "duration": 16,
    "start_time": "2024-11-04T00:32:32.443Z"
   },
   {
    "duration": 8,
    "start_time": "2024-11-04T00:32:32.893Z"
   },
   {
    "duration": 7,
    "start_time": "2024-11-04T00:32:33.403Z"
   },
   {
    "duration": 8,
    "start_time": "2024-11-04T00:32:38.722Z"
   },
   {
    "duration": 12,
    "start_time": "2024-11-04T00:32:40.158Z"
   },
   {
    "duration": 3,
    "start_time": "2024-11-04T00:32:55.088Z"
   },
   {
    "duration": 64,
    "start_time": "2024-11-04T00:32:58.888Z"
   },
   {
    "duration": 3,
    "start_time": "2024-11-04T00:34:56.765Z"
   },
   {
    "duration": 16,
    "start_time": "2024-11-04T00:34:59.040Z"
   },
   {
    "duration": 10,
    "start_time": "2024-11-04T00:34:59.588Z"
   },
   {
    "duration": 8,
    "start_time": "2024-11-04T00:35:05.593Z"
   },
   {
    "duration": 73,
    "start_time": "2024-11-04T00:36:24.436Z"
   },
   {
    "duration": 73,
    "start_time": "2024-11-04T00:36:46.907Z"
   },
   {
    "duration": 72,
    "start_time": "2024-11-04T00:38:40.750Z"
   },
   {
    "duration": 3,
    "start_time": "2024-11-04T00:39:11.052Z"
   },
   {
    "duration": 78,
    "start_time": "2024-11-04T00:39:17.171Z"
   },
   {
    "duration": 3,
    "start_time": "2024-11-04T00:40:31.969Z"
   },
   {
    "duration": 15,
    "start_time": "2024-11-04T00:40:32.758Z"
   },
   {
    "duration": 9,
    "start_time": "2024-11-04T00:40:33.445Z"
   },
   {
    "duration": 7,
    "start_time": "2024-11-04T00:40:34.212Z"
   },
   {
    "duration": 9,
    "start_time": "2024-11-04T00:40:35.236Z"
   },
   {
    "duration": 12,
    "start_time": "2024-11-04T00:40:36.394Z"
   },
   {
    "duration": 4,
    "start_time": "2024-11-04T00:40:37.018Z"
   },
   {
    "duration": 535,
    "start_time": "2024-11-04T00:40:38.977Z"
   },
   {
    "duration": 742,
    "start_time": "2024-11-04T00:40:39.569Z"
   },
   {
    "duration": 673,
    "start_time": "2024-11-04T00:40:40.313Z"
   },
   {
    "duration": 50487,
    "start_time": "2024-11-04T00:40:43.711Z"
   },
   {
    "duration": 6,
    "start_time": "2024-11-04T00:41:58.275Z"
   },
   {
    "duration": 53,
    "start_time": "2024-11-04T00:42:08.706Z"
   },
   {
    "duration": 3,
    "start_time": "2024-11-04T00:48:10.931Z"
   },
   {
    "duration": 17,
    "start_time": "2024-11-04T00:48:11.949Z"
   },
   {
    "duration": 9,
    "start_time": "2024-11-04T00:48:13.192Z"
   },
   {
    "duration": 10,
    "start_time": "2024-11-04T00:48:16.031Z"
   },
   {
    "duration": 11,
    "start_time": "2024-11-04T00:48:18.914Z"
   },
   {
    "duration": 4,
    "start_time": "2024-11-04T00:48:22.225Z"
   },
   {
    "duration": 636,
    "start_time": "2024-11-04T00:48:23.336Z"
   },
   {
    "duration": 698,
    "start_time": "2024-11-04T00:48:24.103Z"
   },
   {
    "duration": 891,
    "start_time": "2024-11-04T00:48:24.825Z"
   },
   {
    "duration": 50359,
    "start_time": "2024-11-04T00:48:25.836Z"
   },
   {
    "duration": 12,
    "start_time": "2024-11-04T00:49:16.197Z"
   },
   {
    "duration": 6,
    "start_time": "2024-11-04T00:50:08.024Z"
   },
   {
    "duration": 51,
    "start_time": "2024-11-04T00:50:12.231Z"
   },
   {
    "duration": 10693,
    "start_time": "2024-11-04T00:50:23.677Z"
   },
   {
    "duration": 53,
    "start_time": "2024-11-04T00:54:53.469Z"
   },
   {
    "duration": 4,
    "start_time": "2024-11-04T00:55:11.133Z"
   },
   {
    "duration": 3,
    "start_time": "2024-11-04T01:02:50.707Z"
   },
   {
    "duration": 4,
    "start_time": "2024-11-04T01:05:24.861Z"
   },
   {
    "duration": 4,
    "start_time": "2024-11-04T01:05:26.964Z"
   },
   {
    "duration": 4,
    "start_time": "2024-11-04T01:06:19.399Z"
   },
   {
    "duration": 3,
    "start_time": "2024-11-04T01:06:26.895Z"
   },
   {
    "duration": 16,
    "start_time": "2024-11-04T01:07:40.891Z"
   },
   {
    "duration": 1910,
    "start_time": "2024-11-04T01:08:28.336Z"
   },
   {
    "duration": 680,
    "start_time": "2024-11-04T01:08:34.918Z"
   },
   {
    "duration": 214,
    "start_time": "2024-11-04T01:13:58.616Z"
   },
   {
    "duration": 228,
    "start_time": "2024-11-04T01:16:02.981Z"
   },
   {
    "duration": 244,
    "start_time": "2024-11-04T01:18:26.864Z"
   },
   {
    "duration": 265,
    "start_time": "2024-11-04T01:18:53.116Z"
   },
   {
    "duration": 168,
    "start_time": "2024-11-04T01:26:27.958Z"
   },
   {
    "duration": 514,
    "start_time": "2024-11-04T01:29:54.404Z"
   },
   {
    "duration": 472,
    "start_time": "2024-11-04T01:31:21.008Z"
   },
   {
    "duration": 655,
    "start_time": "2024-11-04T01:32:37.811Z"
   },
   {
    "duration": 552,
    "start_time": "2024-11-04T01:33:08.954Z"
   },
   {
    "duration": 143,
    "start_time": "2024-11-04T01:34:25.175Z"
   },
   {
    "duration": 517,
    "start_time": "2024-11-04T01:34:38.433Z"
   },
   {
    "duration": 492,
    "start_time": "2024-11-04T01:36:03.993Z"
   },
   {
    "duration": 478,
    "start_time": "2024-11-04T01:36:58.908Z"
   },
   {
    "duration": 451,
    "start_time": "2024-11-04T01:37:44.173Z"
   },
   {
    "duration": 440,
    "start_time": "2024-11-04T01:37:54.906Z"
   },
   {
    "duration": 401,
    "start_time": "2024-11-04T01:38:33.549Z"
   },
   {
    "duration": 483,
    "start_time": "2024-11-04T01:38:44.744Z"
   },
   {
    "duration": 219,
    "start_time": "2024-11-04T01:40:11.298Z"
   },
   {
    "duration": 210,
    "start_time": "2024-11-04T01:50:26.634Z"
   },
   {
    "duration": 216,
    "start_time": "2024-11-04T01:50:37.586Z"
   },
   {
    "duration": 253,
    "start_time": "2024-11-04T01:50:56.533Z"
   },
   {
    "duration": 228,
    "start_time": "2024-11-04T01:51:13.962Z"
   },
   {
    "duration": 430,
    "start_time": "2024-11-04T01:51:22.114Z"
   },
   {
    "duration": 243,
    "start_time": "2024-11-04T01:51:30.760Z"
   },
   {
    "duration": 216,
    "start_time": "2024-11-04T01:52:01.188Z"
   },
   {
    "duration": 245,
    "start_time": "2024-11-04T01:52:14.415Z"
   },
   {
    "duration": 321,
    "start_time": "2024-11-04T01:52:26.336Z"
   },
   {
    "duration": 273,
    "start_time": "2024-11-04T04:44:02.019Z"
   },
   {
    "duration": 288,
    "start_time": "2024-11-04T04:44:13.460Z"
   },
   {
    "duration": 237,
    "start_time": "2024-11-04T04:44:27.813Z"
   },
   {
    "duration": 255,
    "start_time": "2024-11-04T04:44:39.781Z"
   },
   {
    "duration": 244,
    "start_time": "2024-11-04T04:44:51.928Z"
   },
   {
    "duration": 226,
    "start_time": "2024-11-04T04:45:42.986Z"
   },
   {
    "duration": 234,
    "start_time": "2024-11-04T04:45:58.604Z"
   },
   {
    "duration": 230,
    "start_time": "2024-11-04T04:46:10.416Z"
   },
   {
    "duration": 230,
    "start_time": "2024-11-04T04:46:18.134Z"
   },
   {
    "duration": 201,
    "start_time": "2024-11-04T04:47:00.999Z"
   },
   {
    "duration": 206,
    "start_time": "2024-11-04T04:47:13.141Z"
   },
   {
    "duration": 952,
    "start_time": "2024-11-04T05:46:14.220Z"
   },
   {
    "duration": 82,
    "start_time": "2024-11-04T05:46:15.174Z"
   },
   {
    "duration": 10,
    "start_time": "2024-11-04T05:46:15.258Z"
   },
   {
    "duration": 8,
    "start_time": "2024-11-04T05:46:15.270Z"
   },
   {
    "duration": 9,
    "start_time": "2024-11-04T05:46:15.281Z"
   },
   {
    "duration": 39,
    "start_time": "2024-11-04T05:46:15.291Z"
   },
   {
    "duration": 5,
    "start_time": "2024-11-04T05:46:15.331Z"
   },
   {
    "duration": 526,
    "start_time": "2024-11-04T05:46:15.338Z"
   },
   {
    "duration": 863,
    "start_time": "2024-11-04T05:46:15.866Z"
   },
   {
    "duration": 534,
    "start_time": "2024-11-04T05:46:16.732Z"
   },
   {
    "duration": 50389,
    "start_time": "2024-11-04T05:46:17.267Z"
   },
   {
    "duration": 6,
    "start_time": "2024-11-04T05:47:07.659Z"
   },
   {
    "duration": 5,
    "start_time": "2024-11-04T05:47:07.667Z"
   },
   {
    "duration": 3,
    "start_time": "2024-11-04T05:47:07.675Z"
   },
   {
    "duration": 293,
    "start_time": "2024-11-04T05:47:07.680Z"
   },
   {
    "duration": 237,
    "start_time": "2024-11-04T05:47:07.975Z"
   },
   {
    "duration": 240,
    "start_time": "2024-11-04T05:47:08.214Z"
   },
   {
    "duration": 217,
    "start_time": "2024-11-04T05:47:08.456Z"
   },
   {
    "duration": 504,
    "start_time": "2024-11-04T05:47:08.674Z"
   },
   {
    "duration": 2897,
    "start_time": "2024-11-05T21:50:23.468Z"
   },
   {
    "duration": 32,
    "start_time": "2024-11-05T21:50:27.821Z"
   },
   {
    "duration": 10,
    "start_time": "2024-11-05T21:50:29.112Z"
   },
   {
    "duration": 7,
    "start_time": "2024-11-05T21:50:39.011Z"
   },
   {
    "duration": 16,
    "start_time": "2024-11-05T21:50:41.812Z"
   },
   {
    "duration": 230,
    "start_time": "2024-11-05T21:53:38.919Z"
   },
   {
    "duration": 7,
    "start_time": "2024-11-05T21:54:01.432Z"
   },
   {
    "duration": 17,
    "start_time": "2024-11-05T21:54:04.964Z"
   },
   {
    "duration": 9,
    "start_time": "2024-11-05T21:54:05.563Z"
   },
   {
    "duration": 7,
    "start_time": "2024-11-05T21:54:06.198Z"
   },
   {
    "duration": 19,
    "start_time": "2024-11-05T21:54:07.826Z"
   },
   {
    "duration": 45,
    "start_time": "2024-11-05T21:54:11.054Z"
   },
   {
    "duration": 3,
    "start_time": "2024-11-05T21:56:25.626Z"
   },
   {
    "duration": 14,
    "start_time": "2024-11-05T21:56:27.675Z"
   },
   {
    "duration": 118,
    "start_time": "2024-11-05T21:56:30.374Z"
   },
   {
    "duration": 31,
    "start_time": "2024-11-05T21:56:47.312Z"
   },
   {
    "duration": 213,
    "start_time": "2024-11-05T21:59:08.118Z"
   },
   {
    "duration": 129,
    "start_time": "2024-11-05T22:00:25.676Z"
   },
   {
    "duration": 3,
    "start_time": "2024-11-05T22:01:12.942Z"
   },
   {
    "duration": 18,
    "start_time": "2024-11-05T22:01:13.212Z"
   },
   {
    "duration": 9,
    "start_time": "2024-11-05T22:01:13.463Z"
   },
   {
    "duration": 7,
    "start_time": "2024-11-05T22:01:13.993Z"
   },
   {
    "duration": 3,
    "start_time": "2024-11-05T22:01:14.729Z"
   },
   {
    "duration": 12,
    "start_time": "2024-11-05T22:01:15.294Z"
   },
   {
    "duration": 207,
    "start_time": "2024-11-05T22:01:17.472Z"
   },
   {
    "duration": 150,
    "start_time": "2024-11-05T22:01:18.185Z"
   },
   {
    "duration": 29,
    "start_time": "2024-11-05T22:01:30.836Z"
   },
   {
    "duration": 30,
    "start_time": "2024-11-05T22:03:40.569Z"
   },
   {
    "duration": 43,
    "start_time": "2024-11-05T22:04:00.623Z"
   },
   {
    "duration": 43,
    "start_time": "2024-11-05T22:04:16.517Z"
   },
   {
    "duration": 23,
    "start_time": "2024-11-05T22:04:22.326Z"
   },
   {
    "duration": 23,
    "start_time": "2024-11-05T22:04:26.722Z"
   },
   {
    "duration": 590,
    "start_time": "2024-11-05T22:05:46.790Z"
   },
   {
    "duration": 480,
    "start_time": "2024-11-05T22:09:03.091Z"
   },
   {
    "duration": 4,
    "start_time": "2024-11-05T22:09:23.988Z"
   },
   {
    "duration": 23,
    "start_time": "2024-11-05T22:09:27.253Z"
   },
   {
    "duration": 10,
    "start_time": "2024-11-05T22:09:34.770Z"
   },
   {
    "duration": 31,
    "start_time": "2024-11-05T22:09:36.894Z"
   },
   {
    "duration": 2003437,
    "start_time": "2024-11-05T22:10:24.459Z"
   },
   {
    "duration": 0,
    "start_time": "2024-11-05T22:43:47.898Z"
   },
   {
    "duration": 0,
    "start_time": "2024-11-05T22:43:47.899Z"
   },
   {
    "duration": 4,
    "start_time": "2024-11-05T22:44:11.384Z"
   },
   {
    "duration": 16,
    "start_time": "2024-11-05T22:44:15.168Z"
   },
   {
    "duration": 9,
    "start_time": "2024-11-05T22:44:16.620Z"
   },
   {
    "duration": 9,
    "start_time": "2024-11-05T22:44:17.804Z"
   },
   {
    "duration": 3,
    "start_time": "2024-11-05T22:44:19.020Z"
   },
   {
    "duration": 13,
    "start_time": "2024-11-05T22:44:20.455Z"
   },
   {
    "duration": 214,
    "start_time": "2024-11-05T22:44:22.651Z"
   },
   {
    "duration": 141,
    "start_time": "2024-11-05T22:44:23.266Z"
   },
   {
    "duration": 573,
    "start_time": "2024-11-05T22:44:24.509Z"
   },
   {
    "duration": 82,
    "start_time": "2024-11-05T22:44:27.084Z"
   },
   {
    "duration": 4,
    "start_time": "2024-11-05T22:45:09.584Z"
   },
   {
    "duration": 388080,
    "start_time": "2024-11-05T22:45:28.607Z"
   },
   {
    "duration": 0,
    "start_time": "2024-11-05T22:51:56.689Z"
   },
   {
    "duration": 4,
    "start_time": "2024-11-05T22:52:02.999Z"
   },
   {
    "duration": 17,
    "start_time": "2024-11-05T22:52:03.494Z"
   },
   {
    "duration": 9,
    "start_time": "2024-11-05T22:52:03.906Z"
   },
   {
    "duration": 8,
    "start_time": "2024-11-05T22:52:04.463Z"
   },
   {
    "duration": 3,
    "start_time": "2024-11-05T22:52:09.107Z"
   },
   {
    "duration": 12,
    "start_time": "2024-11-05T22:52:10.946Z"
   },
   {
    "duration": 200,
    "start_time": "2024-11-05T22:52:13.452Z"
   },
   {
    "duration": 132,
    "start_time": "2024-11-05T22:52:14.011Z"
   },
   {
    "duration": 516,
    "start_time": "2024-11-05T22:52:15.029Z"
   },
   {
    "duration": 7,
    "start_time": "2024-11-05T22:52:18.544Z"
   },
   {
    "duration": 4,
    "start_time": "2024-11-05T22:52:27.013Z"
   },
   {
    "duration": 93,
    "start_time": "2024-11-05T22:55:53.121Z"
   },
   {
    "duration": 20,
    "start_time": "2024-11-05T22:57:21.463Z"
   },
   {
    "duration": 13,
    "start_time": "2024-11-05T22:57:42.730Z"
   },
   {
    "duration": 200,
    "start_time": "2024-11-05T22:57:45.583Z"
   },
   {
    "duration": 3,
    "start_time": "2024-11-05T23:30:16.198Z"
   },
   {
    "duration": 20,
    "start_time": "2024-11-05T23:30:17.159Z"
   },
   {
    "duration": 9,
    "start_time": "2024-11-05T23:30:17.762Z"
   },
   {
    "duration": 12,
    "start_time": "2024-11-05T23:30:19.017Z"
   },
   {
    "duration": 206,
    "start_time": "2024-11-05T23:30:20.914Z"
   },
   {
    "duration": 136,
    "start_time": "2024-11-05T23:30:21.480Z"
   },
   {
    "duration": 521,
    "start_time": "2024-11-05T23:30:22.038Z"
   },
   {
    "duration": 6,
    "start_time": "2024-11-05T23:30:23.491Z"
   },
   {
    "duration": 3,
    "start_time": "2024-11-05T23:30:26.463Z"
   },
   {
    "duration": 49754,
    "start_time": "2024-11-05T23:39:27.013Z"
   },
   {
    "duration": 3,
    "start_time": "2024-11-05T23:40:30.036Z"
   },
   {
    "duration": 20,
    "start_time": "2024-11-05T23:40:31.422Z"
   },
   {
    "duration": 8,
    "start_time": "2024-11-05T23:40:32.039Z"
   },
   {
    "duration": 12,
    "start_time": "2024-11-05T23:40:33.176Z"
   },
   {
    "duration": 207,
    "start_time": "2024-11-05T23:40:37.851Z"
   },
   {
    "duration": 129,
    "start_time": "2024-11-05T23:40:38.618Z"
   },
   {
    "duration": 529,
    "start_time": "2024-11-05T23:40:39.425Z"
   },
   {
    "duration": 5,
    "start_time": "2024-11-05T23:40:44.280Z"
   },
   {
    "duration": 4,
    "start_time": "2024-11-05T23:40:44.986Z"
   },
   {
    "duration": 411,
    "start_time": "2024-11-05T23:40:47.445Z"
   },
   {
    "duration": 335,
    "start_time": "2024-11-05T23:40:48.896Z"
   },
   {
    "duration": 520,
    "start_time": "2024-11-05T23:40:50.219Z"
   },
   {
    "duration": 20278,
    "start_time": "2024-11-05T23:40:51.473Z"
   },
   {
    "duration": 66,
    "start_time": "2024-11-05T23:45:59.352Z"
   },
   {
    "duration": 30234,
    "start_time": "2024-11-05T23:47:05.130Z"
   },
   {
    "duration": 24,
    "start_time": "2024-11-05T23:51:25.016Z"
   },
   {
    "duration": 46,
    "start_time": "2024-11-05T23:51:36.482Z"
   },
   {
    "duration": 28676,
    "start_time": "2024-11-05T23:51:40.377Z"
   },
   {
    "duration": 4,
    "start_time": "2024-11-05T23:52:30.039Z"
   },
   {
    "duration": 5,
    "start_time": "2024-11-05T23:53:17.313Z"
   },
   {
    "duration": 4,
    "start_time": "2024-11-05T23:53:18.271Z"
   },
   {
    "duration": 4,
    "start_time": "2024-11-05T23:58:17.295Z"
   },
   {
    "duration": 3,
    "start_time": "2024-11-05T23:58:17.891Z"
   },
   {
    "duration": 5,
    "start_time": "2024-11-06T00:01:50.657Z"
   },
   {
    "duration": 3,
    "start_time": "2024-11-06T00:03:15.600Z"
   },
   {
    "duration": 50,
    "start_time": "2024-11-06T00:11:20.652Z"
   },
   {
    "duration": 51,
    "start_time": "2024-11-06T00:12:34.139Z"
   },
   {
    "duration": 49,
    "start_time": "2024-11-06T00:15:05.952Z"
   },
   {
    "duration": 3,
    "start_time": "2024-11-06T00:15:42.160Z"
   },
   {
    "duration": 11,
    "start_time": "2024-11-06T00:16:31.686Z"
   },
   {
    "duration": 6,
    "start_time": "2024-11-06T00:17:04.283Z"
   },
   {
    "duration": 186,
    "start_time": "2024-11-06T00:18:48.678Z"
   },
   {
    "duration": 227,
    "start_time": "2024-11-06T00:20:42.320Z"
   },
   {
    "duration": 190,
    "start_time": "2024-11-06T00:21:25.628Z"
   },
   {
    "duration": 14,
    "start_time": "2024-11-06T00:22:01.098Z"
   },
   {
    "duration": 19,
    "start_time": "2024-11-06T00:23:37.387Z"
   },
   {
    "duration": 23,
    "start_time": "2024-11-06T00:24:14.729Z"
   },
   {
    "duration": 16,
    "start_time": "2024-11-06T00:24:36.933Z"
   },
   {
    "duration": 16,
    "start_time": "2024-11-06T00:27:24.471Z"
   },
   {
    "duration": 20,
    "start_time": "2024-11-06T00:27:44.593Z"
   },
   {
    "duration": 4,
    "start_time": "2024-11-06T00:28:05.267Z"
   },
   {
    "duration": 22,
    "start_time": "2024-11-06T00:28:05.273Z"
   },
   {
    "duration": 9,
    "start_time": "2024-11-06T00:28:05.296Z"
   },
   {
    "duration": 12,
    "start_time": "2024-11-06T00:28:05.308Z"
   },
   {
    "duration": 198,
    "start_time": "2024-11-06T00:28:05.321Z"
   },
   {
    "duration": 136,
    "start_time": "2024-11-06T00:28:05.521Z"
   },
   {
    "duration": 508,
    "start_time": "2024-11-06T00:28:05.659Z"
   },
   {
    "duration": 6,
    "start_time": "2024-11-06T00:28:06.169Z"
   },
   {
    "duration": 4,
    "start_time": "2024-11-06T00:28:06.178Z"
   },
   {
    "duration": 385,
    "start_time": "2024-11-06T00:28:06.184Z"
   },
   {
    "duration": 389,
    "start_time": "2024-11-06T00:28:06.571Z"
   },
   {
    "duration": 499,
    "start_time": "2024-11-06T00:28:06.962Z"
   },
   {
    "duration": 19735,
    "start_time": "2024-11-06T00:28:07.463Z"
   },
   {
    "duration": 73,
    "start_time": "2024-11-06T00:28:27.199Z"
   },
   {
    "duration": 27798,
    "start_time": "2024-11-06T00:28:27.274Z"
   },
   {
    "duration": 58,
    "start_time": "2024-11-06T00:28:55.075Z"
   },
   {
    "duration": 7,
    "start_time": "2024-11-06T00:28:55.136Z"
   },
   {
    "duration": 8,
    "start_time": "2024-11-06T00:28:55.145Z"
   },
   {
    "duration": 267,
    "start_time": "2024-11-06T00:28:55.155Z"
   },
   {
    "duration": 53,
    "start_time": "2024-11-06T00:28:55.424Z"
   },
   {
    "duration": 0,
    "start_time": "2024-11-06T00:28:55.479Z"
   },
   {
    "duration": 0,
    "start_time": "2024-11-06T00:28:55.483Z"
   },
   {
    "duration": 0,
    "start_time": "2024-11-06T00:28:55.484Z"
   },
   {
    "duration": 244,
    "start_time": "2024-11-06T00:29:21.887Z"
   },
   {
    "duration": 225,
    "start_time": "2024-11-06T00:30:30.548Z"
   },
   {
    "duration": 218,
    "start_time": "2024-11-06T00:32:54.783Z"
   },
   {
    "duration": 211,
    "start_time": "2024-11-06T00:33:46.707Z"
   },
   {
    "duration": 213,
    "start_time": "2024-11-06T00:34:35.558Z"
   },
   {
    "duration": 229,
    "start_time": "2024-11-06T00:35:38.277Z"
   },
   {
    "duration": 212,
    "start_time": "2024-11-06T00:44:04.005Z"
   },
   {
    "duration": 2954,
    "start_time": "2024-11-06T01:48:19.779Z"
   },
   {
    "duration": 31,
    "start_time": "2024-11-06T01:48:22.735Z"
   },
   {
    "duration": 8,
    "start_time": "2024-11-06T01:48:22.768Z"
   },
   {
    "duration": 14,
    "start_time": "2024-11-06T01:48:22.777Z"
   },
   {
    "duration": 222,
    "start_time": "2024-11-06T01:48:22.794Z"
   },
   {
    "duration": 138,
    "start_time": "2024-11-06T01:48:23.018Z"
   },
   {
    "duration": 557,
    "start_time": "2024-11-06T01:48:23.157Z"
   },
   {
    "duration": 8,
    "start_time": "2024-11-06T01:48:23.716Z"
   },
   {
    "duration": 3,
    "start_time": "2024-11-06T01:48:23.725Z"
   },
   {
    "duration": 441,
    "start_time": "2024-11-06T01:48:23.730Z"
   },
   {
    "duration": 407,
    "start_time": "2024-11-06T01:48:24.173Z"
   },
   {
    "duration": 501,
    "start_time": "2024-11-06T01:48:24.582Z"
   },
   {
    "duration": 20234,
    "start_time": "2024-11-06T01:48:25.085Z"
   },
   {
    "duration": 85,
    "start_time": "2024-11-06T01:48:45.322Z"
   },
   {
    "duration": 26364,
    "start_time": "2024-11-06T01:48:45.408Z"
   },
   {
    "duration": 6,
    "start_time": "2024-11-06T01:49:11.775Z"
   },
   {
    "duration": 3,
    "start_time": "2024-11-06T01:49:11.783Z"
   },
   {
    "duration": 9,
    "start_time": "2024-11-06T01:49:11.788Z"
   },
   {
    "duration": 4,
    "start_time": "2024-11-06T01:49:11.798Z"
   },
   {
    "duration": 284,
    "start_time": "2024-11-06T01:49:11.803Z"
   },
   {
    "duration": 218,
    "start_time": "2024-11-06T01:49:12.090Z"
   },
   {
    "duration": 224,
    "start_time": "2024-11-06T01:49:12.310Z"
   },
   {
    "duration": 240,
    "start_time": "2024-11-06T01:49:12.536Z"
   },
   {
    "duration": 227,
    "start_time": "2024-11-06T01:49:12.778Z"
   },
   {
    "duration": 1031,
    "start_time": "2024-11-06T01:49:13.007Z"
   },
   {
    "duration": 691,
    "start_time": "2024-11-06T01:53:26.703Z"
   },
   {
    "duration": 625,
    "start_time": "2024-11-06T01:53:53.403Z"
   },
   {
    "duration": 658,
    "start_time": "2024-11-06T01:54:14.684Z"
   },
   {
    "duration": 782,
    "start_time": "2024-11-06T01:58:35.288Z"
   },
   {
    "duration": 860,
    "start_time": "2024-11-06T02:00:21.163Z"
   },
   {
    "duration": 925,
    "start_time": "2024-11-06T02:00:36.445Z"
   },
   {
    "duration": 777,
    "start_time": "2024-11-06T02:35:22.389Z"
   },
   {
    "duration": 87,
    "start_time": "2024-11-06T02:36:47.924Z"
   },
   {
    "duration": 4,
    "start_time": "2024-11-06T02:38:24.224Z"
   },
   {
    "duration": 19,
    "start_time": "2024-11-06T02:38:25.189Z"
   },
   {
    "duration": 9,
    "start_time": "2024-11-06T02:38:25.743Z"
   },
   {
    "duration": 14,
    "start_time": "2024-11-06T02:38:26.773Z"
   },
   {
    "duration": 188,
    "start_time": "2024-11-06T02:38:29.177Z"
   },
   {
    "duration": 133,
    "start_time": "2024-11-06T02:38:30.054Z"
   },
   {
    "duration": 536,
    "start_time": "2024-11-06T02:38:30.745Z"
   },
   {
    "duration": 888,
    "start_time": "2024-11-06T02:38:31.701Z"
   },
   {
    "duration": 252,
    "start_time": "2024-11-06T02:40:20.150Z"
   },
   {
    "duration": 479,
    "start_time": "2024-11-06T02:43:44.706Z"
   },
   {
    "duration": 2943,
    "start_time": "2024-11-06T05:22:44.237Z"
   },
   {
    "duration": 31,
    "start_time": "2024-11-06T05:22:47.183Z"
   },
   {
    "duration": 10,
    "start_time": "2024-11-06T05:22:47.216Z"
   },
   {
    "duration": 15,
    "start_time": "2024-11-06T05:22:47.229Z"
   },
   {
    "duration": 217,
    "start_time": "2024-11-06T05:22:47.247Z"
   },
   {
    "duration": 144,
    "start_time": "2024-11-06T05:22:47.467Z"
   },
   {
    "duration": 310,
    "start_time": "2024-11-06T05:22:47.613Z"
   },
   {
    "duration": 551,
    "start_time": "2024-11-06T05:22:47.926Z"
   },
   {
    "duration": 7,
    "start_time": "2024-11-06T05:22:48.487Z"
   },
   {
    "duration": 4,
    "start_time": "2024-11-06T05:22:48.495Z"
   },
   {
    "duration": 433,
    "start_time": "2024-11-06T05:22:48.502Z"
   },
   {
    "duration": 341,
    "start_time": "2024-11-06T05:22:48.987Z"
   },
   {
    "duration": 491,
    "start_time": "2024-11-06T05:22:49.330Z"
   },
   {
    "duration": 20096,
    "start_time": "2024-11-06T05:22:49.825Z"
   },
   {
    "duration": 45,
    "start_time": "2024-11-06T05:23:09.924Z"
   },
   {
    "duration": 27439,
    "start_time": "2024-11-06T05:23:09.971Z"
   },
   {
    "duration": 5,
    "start_time": "2024-11-06T05:23:37.412Z"
   },
   {
    "duration": 4,
    "start_time": "2024-11-06T05:23:37.418Z"
   },
   {
    "duration": 277,
    "start_time": "2024-11-06T05:23:37.423Z"
   },
   {
    "duration": 221,
    "start_time": "2024-11-06T05:23:37.702Z"
   },
   {
    "duration": 231,
    "start_time": "2024-11-06T05:23:37.925Z"
   },
   {
    "duration": 229,
    "start_time": "2024-11-06T05:23:38.158Z"
   },
   {
    "duration": 221,
    "start_time": "2024-11-06T05:23:38.389Z"
   },
   {
    "duration": 939,
    "start_time": "2024-11-06T05:23:38.612Z"
   },
   {
    "duration": 26788,
    "start_time": "2024-11-06T05:29:15.619Z"
   },
   {
    "duration": 163,
    "start_time": "2024-11-06T15:54:57.792Z"
   },
   {
    "duration": 2835,
    "start_time": "2024-11-06T15:55:07.795Z"
   },
   {
    "duration": 25,
    "start_time": "2024-11-06T15:55:11.577Z"
   },
   {
    "duration": 9,
    "start_time": "2024-11-06T15:55:12.654Z"
   },
   {
    "duration": 15,
    "start_time": "2024-11-06T15:55:14.521Z"
   },
   {
    "duration": 209,
    "start_time": "2024-11-06T15:55:37.109Z"
   },
   {
    "duration": 133,
    "start_time": "2024-11-06T15:55:40.750Z"
   },
   {
    "duration": 307,
    "start_time": "2024-11-06T15:56:10.048Z"
   },
   {
    "duration": 552,
    "start_time": "2024-11-06T15:56:10.724Z"
   },
   {
    "duration": 7,
    "start_time": "2024-11-06T15:56:16.616Z"
   },
   {
    "duration": 4,
    "start_time": "2024-11-06T15:56:18.650Z"
   },
   {
    "duration": 492,
    "start_time": "2024-11-06T15:56:20.715Z"
   },
   {
    "duration": 379,
    "start_time": "2024-11-06T15:56:21.210Z"
   },
   {
    "duration": 515,
    "start_time": "2024-11-06T15:56:22.316Z"
   },
   {
    "duration": 38226,
    "start_time": "2024-11-06T15:56:23.073Z"
   },
   {
    "duration": 46,
    "start_time": "2024-11-06T16:02:51.055Z"
   },
   {
    "duration": 23285,
    "start_time": "2024-11-06T16:02:53.524Z"
   },
   {
    "duration": 114,
    "start_time": "2024-11-06T16:07:00.181Z"
   },
   {
    "duration": 5,
    "start_time": "2024-11-06T16:07:20.790Z"
   },
   {
    "duration": 3,
    "start_time": "2024-11-06T16:07:23.664Z"
   },
   {
    "duration": 6,
    "start_time": "2024-11-06T16:07:48.912Z"
   },
   {
    "duration": 4,
    "start_time": "2024-11-06T16:07:52.754Z"
   },
   {
    "duration": 363,
    "start_time": "2024-11-06T16:07:54.329Z"
   },
   {
    "duration": 312,
    "start_time": "2024-11-06T16:07:55.009Z"
   },
   {
    "duration": 596,
    "start_time": "2024-11-06T16:07:56.726Z"
   },
   {
    "duration": 37768,
    "start_time": "2024-11-06T16:07:57.960Z"
   },
   {
    "duration": 5,
    "start_time": "2024-11-06T16:09:11.837Z"
   },
   {
    "duration": 4,
    "start_time": "2024-11-06T16:09:13.010Z"
   },
   {
    "duration": 201,
    "start_time": "2024-11-06T16:12:58.299Z"
   },
   {
    "duration": 209,
    "start_time": "2024-11-06T16:13:47.166Z"
   },
   {
    "duration": 198,
    "start_time": "2024-11-06T16:13:49.737Z"
   },
   {
    "duration": 283,
    "start_time": "2024-11-06T16:13:55.149Z"
   },
   {
    "duration": 213,
    "start_time": "2024-11-06T16:14:03.304Z"
   },
   {
    "duration": 204,
    "start_time": "2024-11-06T16:14:33.705Z"
   },
   {
    "duration": 215,
    "start_time": "2024-11-06T16:14:46.069Z"
   },
   {
    "duration": 850,
    "start_time": "2024-11-06T16:14:59.984Z"
   },
   {
    "duration": 2974,
    "start_time": "2024-11-06T16:28:54.337Z"
   },
   {
    "duration": 32,
    "start_time": "2024-11-06T16:28:57.313Z"
   },
   {
    "duration": 8,
    "start_time": "2024-11-06T16:28:57.347Z"
   },
   {
    "duration": 15,
    "start_time": "2024-11-06T16:28:57.356Z"
   },
   {
    "duration": 222,
    "start_time": "2024-11-06T16:28:57.373Z"
   },
   {
    "duration": 142,
    "start_time": "2024-11-06T16:28:57.596Z"
   },
   {
    "duration": 288,
    "start_time": "2024-11-06T16:28:57.743Z"
   },
   {
    "duration": 534,
    "start_time": "2024-11-06T16:28:58.033Z"
   },
   {
    "duration": 8,
    "start_time": "2024-11-06T16:28:58.569Z"
   },
   {
    "duration": 4,
    "start_time": "2024-11-06T16:28:58.578Z"
   },
   {
    "duration": 500,
    "start_time": "2024-11-06T16:28:58.583Z"
   },
   {
    "duration": 394,
    "start_time": "2024-11-06T16:28:59.085Z"
   },
   {
    "duration": 603,
    "start_time": "2024-11-06T16:28:59.481Z"
   },
   {
    "duration": 37934,
    "start_time": "2024-11-06T16:29:00.143Z"
   },
   {
    "duration": 46,
    "start_time": "2024-11-06T16:29:38.079Z"
   },
   {
    "duration": 25336,
    "start_time": "2024-11-06T16:29:38.127Z"
   },
   {
    "duration": 5,
    "start_time": "2024-11-06T16:30:03.465Z"
   },
   {
    "duration": 4,
    "start_time": "2024-11-06T16:30:03.472Z"
   },
   {
    "duration": 264,
    "start_time": "2024-11-06T16:30:03.478Z"
   },
   {
    "duration": 219,
    "start_time": "2024-11-06T16:30:03.744Z"
   },
   {
    "duration": 208,
    "start_time": "2024-11-06T16:30:03.965Z"
   },
   {
    "duration": 208,
    "start_time": "2024-11-06T16:30:04.175Z"
   },
   {
    "duration": 221,
    "start_time": "2024-11-06T16:30:04.385Z"
   },
   {
    "duration": 871,
    "start_time": "2024-11-06T16:30:04.607Z"
   },
   {
    "duration": 5,
    "start_time": "2024-11-06T16:31:09.886Z"
   },
   {
    "duration": 7,
    "start_time": "2024-11-06T16:32:00.387Z"
   },
   {
    "duration": 5,
    "start_time": "2024-11-06T16:32:13.024Z"
   },
   {
    "duration": 166,
    "start_time": "2024-11-06T17:36:03.016Z"
   },
   {
    "duration": 2863,
    "start_time": "2024-11-06T17:36:24.455Z"
   },
   {
    "duration": 26,
    "start_time": "2024-11-06T17:36:28.463Z"
   },
   {
    "duration": 9,
    "start_time": "2024-11-06T17:36:29.103Z"
   },
   {
    "duration": 16,
    "start_time": "2024-11-06T17:36:32.354Z"
   },
   {
    "duration": 208,
    "start_time": "2024-11-06T17:36:52.329Z"
   },
   {
    "duration": 131,
    "start_time": "2024-11-06T17:36:54.857Z"
   },
   {
    "duration": 287,
    "start_time": "2024-11-06T17:37:09.904Z"
   },
   {
    "duration": 504,
    "start_time": "2024-11-06T17:37:13.251Z"
   },
   {
    "duration": 7,
    "start_time": "2024-11-06T17:37:16.508Z"
   },
   {
    "duration": 4,
    "start_time": "2024-11-06T17:37:18.392Z"
   },
   {
    "duration": 467,
    "start_time": "2024-11-06T17:37:20.012Z"
   },
   {
    "duration": 602,
    "start_time": "2024-11-06T17:37:20.481Z"
   },
   {
    "duration": 682,
    "start_time": "2024-11-06T17:37:21.085Z"
   },
   {
    "duration": 38156,
    "start_time": "2024-11-06T17:37:22.637Z"
   },
   {
    "duration": 63311,
    "start_time": "2024-11-06T17:38:04.581Z"
   },
   {
    "duration": 72,
    "start_time": "2024-11-06T17:39:07.893Z"
   },
   {
    "duration": 24825,
    "start_time": "2024-11-06T17:57:10.438Z"
   },
   {
    "duration": 63,
    "start_time": "2024-11-06T17:58:29.528Z"
   },
   {
    "duration": 61,
    "start_time": "2024-11-06T18:07:52.335Z"
   },
   {
    "duration": 5,
    "start_time": "2024-11-06T18:08:24.221Z"
   },
   {
    "duration": 3,
    "start_time": "2024-11-06T18:08:25.139Z"
   },
   {
    "duration": 25648,
    "start_time": "2024-11-06T18:12:46.105Z"
   },
   {
    "duration": 74,
    "start_time": "2024-11-06T18:13:36.206Z"
   },
   {
    "duration": 6,
    "start_time": "2024-11-06T18:14:09.313Z"
   },
   {
    "duration": 4,
    "start_time": "2024-11-06T18:14:42.953Z"
   },
   {
    "duration": 7,
    "start_time": "2024-11-06T18:17:39.135Z"
   },
   {
    "duration": 453,
    "start_time": "2024-11-06T18:18:05.884Z"
   },
   {
    "duration": 108,
    "start_time": "2024-11-06T18:18:27.832Z"
   },
   {
    "duration": 7,
    "start_time": "2024-11-06T18:18:52.241Z"
   },
   {
    "duration": 3,
    "start_time": "2024-11-06T18:19:10.293Z"
   },
   {
    "duration": 6,
    "start_time": "2024-11-06T18:23:09.097Z"
   },
   {
    "duration": 4,
    "start_time": "2024-11-06T18:23:11.909Z"
   },
   {
    "duration": 534,
    "start_time": "2024-11-06T18:23:13.816Z"
   },
   {
    "duration": 383,
    "start_time": "2024-11-06T18:23:14.374Z"
   },
   {
    "duration": 643,
    "start_time": "2024-11-06T18:23:15.531Z"
   },
   {
    "duration": 23186,
    "start_time": "2024-11-06T18:23:16.176Z"
   },
   {
    "duration": 23126,
    "start_time": "2024-11-06T18:23:39.364Z"
   },
   {
    "duration": 37815,
    "start_time": "2024-11-06T18:24:02.492Z"
   },
   {
    "duration": 62768,
    "start_time": "2024-11-06T18:24:40.309Z"
   },
   {
    "duration": 452,
    "start_time": "2024-11-06T18:25:43.079Z"
   },
   {
    "duration": 104,
    "start_time": "2024-11-06T18:25:43.533Z"
   },
   {
    "duration": 8,
    "start_time": "2024-11-06T18:25:43.642Z"
   },
   {
    "duration": 5,
    "start_time": "2024-11-06T18:25:43.651Z"
   },
   {
    "duration": 105,
    "start_time": "2024-11-06T18:32:09.694Z"
   },
   {
    "duration": 360,
    "start_time": "2024-11-06T18:32:55.853Z"
   },
   {
    "duration": 15,
    "start_time": "2024-11-06T18:36:11.660Z"
   },
   {
    "duration": 16,
    "start_time": "2024-11-06T18:37:14.247Z"
   },
   {
    "duration": 34,
    "start_time": "2024-11-06T18:37:53.272Z"
   },
   {
    "duration": 6,
    "start_time": "2024-11-06T18:43:57.378Z"
   },
   {
    "duration": 215,
    "start_time": "2024-11-06T18:44:29.493Z"
   },
   {
    "duration": 111,
    "start_time": "2024-11-06T18:44:52.133Z"
   },
   {
    "duration": 7,
    "start_time": "2024-11-06T18:45:08.310Z"
   },
   {
    "duration": 4,
    "start_time": "2024-11-06T18:45:24.002Z"
   },
   {
    "duration": 18,
    "start_time": "2024-11-06T18:48:06.320Z"
   },
   {
    "duration": 5,
    "start_time": "2024-11-06T18:49:38.286Z"
   },
   {
    "duration": 137234,
    "start_time": "2024-11-06T18:49:49.455Z"
   },
   {
    "duration": 2913,
    "start_time": "2024-11-06T19:57:23.294Z"
   },
   {
    "duration": 32,
    "start_time": "2024-11-06T19:57:26.210Z"
   },
   {
    "duration": 8,
    "start_time": "2024-11-06T19:57:26.244Z"
   },
   {
    "duration": 14,
    "start_time": "2024-11-06T19:57:26.255Z"
   },
   {
    "duration": 217,
    "start_time": "2024-11-06T19:57:26.271Z"
   },
   {
    "duration": 139,
    "start_time": "2024-11-06T19:57:26.490Z"
   },
   {
    "duration": 300,
    "start_time": "2024-11-06T19:57:26.631Z"
   },
   {
    "duration": 542,
    "start_time": "2024-11-06T19:57:26.933Z"
   },
   {
    "duration": 12,
    "start_time": "2024-11-06T19:57:27.477Z"
   },
   {
    "duration": 3,
    "start_time": "2024-11-06T19:57:27.492Z"
   },
   {
    "duration": 0,
    "start_time": "2024-11-06T19:58:59.589Z"
   },
   {
    "duration": 0,
    "start_time": "2024-11-06T19:58:59.590Z"
   },
   {
    "duration": 0,
    "start_time": "2024-11-06T19:58:59.591Z"
   },
   {
    "duration": 0,
    "start_time": "2024-11-06T19:58:59.592Z"
   },
   {
    "duration": 0,
    "start_time": "2024-11-06T19:58:59.593Z"
   },
   {
    "duration": 0,
    "start_time": "2024-11-06T19:58:59.595Z"
   },
   {
    "duration": 0,
    "start_time": "2024-11-06T19:58:59.595Z"
   },
   {
    "duration": 0,
    "start_time": "2024-11-06T19:58:59.597Z"
   },
   {
    "duration": 0,
    "start_time": "2024-11-06T19:58:59.598Z"
   },
   {
    "duration": 0,
    "start_time": "2024-11-06T19:58:59.598Z"
   },
   {
    "duration": 0,
    "start_time": "2024-11-06T19:58:59.599Z"
   },
   {
    "duration": 0,
    "start_time": "2024-11-06T19:58:59.601Z"
   },
   {
    "duration": 0,
    "start_time": "2024-11-06T19:58:59.602Z"
   },
   {
    "duration": 0,
    "start_time": "2024-11-06T19:58:59.603Z"
   },
   {
    "duration": 0,
    "start_time": "2024-11-06T19:58:59.604Z"
   },
   {
    "duration": 0,
    "start_time": "2024-11-06T19:58:59.605Z"
   },
   {
    "duration": 0,
    "start_time": "2024-11-06T19:58:59.607Z"
   },
   {
    "duration": 0,
    "start_time": "2024-11-06T19:58:59.608Z"
   },
   {
    "duration": 0,
    "start_time": "2024-11-06T19:58:59.609Z"
   },
   {
    "duration": 0,
    "start_time": "2024-11-06T19:58:59.610Z"
   },
   {
    "duration": 0,
    "start_time": "2024-11-06T19:58:59.612Z"
   },
   {
    "duration": 0,
    "start_time": "2024-11-06T19:58:59.613Z"
   },
   {
    "duration": 0,
    "start_time": "2024-11-06T19:58:59.617Z"
   },
   {
    "duration": 0,
    "start_time": "2024-11-06T19:58:59.619Z"
   },
   {
    "duration": 0,
    "start_time": "2024-11-06T19:58:59.620Z"
   },
   {
    "duration": 0,
    "start_time": "2024-11-06T19:58:59.622Z"
   },
   {
    "duration": 0,
    "start_time": "2024-11-06T19:58:59.623Z"
   },
   {
    "duration": 0,
    "start_time": "2024-11-06T19:58:59.624Z"
   },
   {
    "duration": 0,
    "start_time": "2024-11-06T19:58:59.687Z"
   },
   {
    "duration": 0,
    "start_time": "2024-11-06T19:58:59.688Z"
   },
   {
    "duration": 0,
    "start_time": "2024-11-06T19:58:59.689Z"
   },
   {
    "duration": 4,
    "start_time": "2024-11-06T19:59:03.427Z"
   },
   {
    "duration": 18,
    "start_time": "2024-11-06T19:59:07.086Z"
   },
   {
    "duration": 8,
    "start_time": "2024-11-06T19:59:07.630Z"
   },
   {
    "duration": 12,
    "start_time": "2024-11-06T19:59:08.926Z"
   },
   {
    "duration": 189,
    "start_time": "2024-11-06T19:59:10.508Z"
   },
   {
    "duration": 136,
    "start_time": "2024-11-06T19:59:11.559Z"
   },
   {
    "duration": 277,
    "start_time": "2024-11-06T19:59:13.067Z"
   },
   {
    "duration": 491,
    "start_time": "2024-11-06T19:59:14.121Z"
   },
   {
    "duration": 6,
    "start_time": "2024-11-06T19:59:17.611Z"
   },
   {
    "duration": 4,
    "start_time": "2024-11-06T19:59:19.405Z"
   },
   {
    "duration": 387,
    "start_time": "2024-11-06T19:59:21.508Z"
   },
   {
    "duration": 382,
    "start_time": "2024-11-06T19:59:22.034Z"
   },
   {
    "duration": 591,
    "start_time": "2024-11-06T19:59:23.841Z"
   },
   {
    "duration": 22895,
    "start_time": "2024-11-06T19:59:32.716Z"
   },
   {
    "duration": 24620,
    "start_time": "2024-11-06T20:01:41.404Z"
   },
   {
    "duration": 1055,
    "start_time": "2024-11-06T20:02:19.652Z"
   },
   {
    "duration": 3408,
    "start_time": "2024-11-06T20:02:49.925Z"
   },
   {
    "duration": 40361,
    "start_time": "2024-11-06T20:03:26.879Z"
   },
   {
    "duration": 22,
    "start_time": "2024-11-06T20:04:55.870Z"
   },
   {
    "duration": 19,
    "start_time": "2024-11-06T20:05:27.506Z"
   },
   {
    "duration": 57,
    "start_time": "2024-11-06T20:06:41.845Z"
   },
   {
    "duration": 308,
    "start_time": "2024-11-06T20:06:51.257Z"
   },
   {
    "duration": 33773,
    "start_time": "2024-11-06T20:07:31.823Z"
   },
   {
    "duration": 6144,
    "start_time": "2024-11-06T20:09:35.972Z"
   },
   {
    "duration": 78,
    "start_time": "2024-11-06T20:09:49.172Z"
   },
   {
    "duration": 21,
    "start_time": "2024-11-06T20:09:59.137Z"
   },
   {
    "duration": 19,
    "start_time": "2024-11-06T20:10:04.345Z"
   },
   {
    "duration": 7573,
    "start_time": "2024-11-06T20:11:55.317Z"
   },
   {
    "duration": 17,
    "start_time": "2024-11-06T20:15:55.687Z"
   },
   {
    "duration": 3,
    "start_time": "2024-11-06T20:17:02.375Z"
   },
   {
    "duration": 37717,
    "start_time": "2024-11-06T20:19:11.125Z"
   },
   {
    "duration": 63187,
    "start_time": "2024-11-06T20:20:02.034Z"
   },
   {
    "duration": 7655,
    "start_time": "2024-11-06T20:24:41.417Z"
   },
   {
    "duration": 69,
    "start_time": "2024-11-06T20:44:11.619Z"
   },
   {
    "duration": 446,
    "start_time": "2024-11-06T20:44:30.996Z"
   },
   {
    "duration": 6,
    "start_time": "2024-11-06T20:44:33.650Z"
   },
   {
    "duration": 210,
    "start_time": "2024-11-06T20:44:37.589Z"
   },
   {
    "duration": 90,
    "start_time": "2024-11-06T20:44:40.620Z"
   },
   {
    "duration": 9,
    "start_time": "2024-11-06T20:44:43.586Z"
   },
   {
    "duration": 4,
    "start_time": "2024-11-06T20:45:29.947Z"
   },
   {
    "duration": 3,
    "start_time": "2024-11-06T20:46:03.904Z"
   },
   {
    "duration": 7615,
    "start_time": "2024-11-06T20:46:30.482Z"
   },
   {
    "duration": 147,
    "start_time": "2024-11-06T21:07:39.627Z"
   },
   {
    "duration": 713,
    "start_time": "2024-11-06T21:09:34.465Z"
   },
   {
    "duration": 525,
    "start_time": "2024-11-06T21:12:12.082Z"
   },
   {
    "duration": 706,
    "start_time": "2024-11-06T21:13:21.106Z"
   },
   {
    "duration": 399,
    "start_time": "2024-11-06T21:13:55.025Z"
   },
   {
    "duration": 51,
    "start_time": "2024-11-06T21:14:20.957Z"
   },
   {
    "duration": 886,
    "start_time": "2024-11-06T21:15:19.871Z"
   },
   {
    "duration": 899,
    "start_time": "2024-11-06T21:15:31.366Z"
   },
   {
    "duration": 197,
    "start_time": "2024-11-06T21:16:25.535Z"
   },
   {
    "duration": 4,
    "start_time": "2024-11-06T21:16:39.079Z"
   },
   {
    "duration": 20,
    "start_time": "2024-11-06T21:16:39.085Z"
   },
   {
    "duration": 8,
    "start_time": "2024-11-06T21:16:39.106Z"
   },
   {
    "duration": 12,
    "start_time": "2024-11-06T21:16:39.116Z"
   },
   {
    "duration": 207,
    "start_time": "2024-11-06T21:16:39.131Z"
   },
   {
    "duration": 140,
    "start_time": "2024-11-06T21:16:39.339Z"
   },
   {
    "duration": 260,
    "start_time": "2024-11-06T21:16:39.487Z"
   },
   {
    "duration": 655,
    "start_time": "2024-11-06T21:16:39.749Z"
   },
   {
    "duration": 7,
    "start_time": "2024-11-06T21:16:40.406Z"
   },
   {
    "duration": 4,
    "start_time": "2024-11-06T21:16:40.414Z"
   },
   {
    "duration": 399,
    "start_time": "2024-11-06T21:16:40.420Z"
   },
   {
    "duration": 5467,
    "start_time": "2024-11-06T21:16:40.820Z"
   },
   {
    "duration": 697,
    "start_time": "2024-11-06T21:16:46.289Z"
   },
   {
    "duration": 37753,
    "start_time": "2024-11-06T21:16:46.990Z"
   },
   {
    "duration": 62900,
    "start_time": "2024-11-06T21:17:24.745Z"
   },
   {
    "duration": 445,
    "start_time": "2024-11-06T21:18:27.648Z"
   },
   {
    "duration": 5,
    "start_time": "2024-11-06T21:18:28.094Z"
   },
   {
    "duration": 223,
    "start_time": "2024-11-06T21:18:28.101Z"
   },
   {
    "duration": 99,
    "start_time": "2024-11-06T21:18:28.326Z"
   },
   {
    "duration": 6,
    "start_time": "2024-11-06T21:18:28.426Z"
   },
   {
    "duration": 4,
    "start_time": "2024-11-06T21:18:28.434Z"
   },
   {
    "duration": 7628,
    "start_time": "2024-11-06T21:18:28.440Z"
   },
   {
    "duration": 5,
    "start_time": "2024-11-06T21:18:36.069Z"
   },
   {
    "duration": 54,
    "start_time": "2024-11-06T21:18:36.076Z"
   },
   {
    "duration": 0,
    "start_time": "2024-11-06T21:18:36.132Z"
   },
   {
    "duration": 1,
    "start_time": "2024-11-06T21:18:36.133Z"
   },
   {
    "duration": 0,
    "start_time": "2024-11-06T21:18:36.135Z"
   },
   {
    "duration": 0,
    "start_time": "2024-11-06T21:18:36.137Z"
   },
   {
    "duration": 0,
    "start_time": "2024-11-06T21:18:36.138Z"
   },
   {
    "duration": 45,
    "start_time": "2024-11-06T21:19:32.534Z"
   },
   {
    "duration": 4,
    "start_time": "2024-11-06T21:19:57.344Z"
   },
   {
    "duration": 15,
    "start_time": "2024-11-06T21:20:33.075Z"
   },
   {
    "duration": 3,
    "start_time": "2024-11-06T21:20:45.505Z"
   },
   {
    "duration": 734,
    "start_time": "2024-11-06T21:21:31.724Z"
   },
   {
    "duration": 1113,
    "start_time": "2024-11-07T02:51:07.165Z"
   },
   {
    "duration": 32,
    "start_time": "2024-11-07T02:51:08.281Z"
   },
   {
    "duration": 8,
    "start_time": "2024-11-07T02:51:08.315Z"
   },
   {
    "duration": 19,
    "start_time": "2024-11-07T02:51:08.324Z"
   },
   {
    "duration": 216,
    "start_time": "2024-11-07T02:51:08.345Z"
   },
   {
    "duration": 139,
    "start_time": "2024-11-07T02:51:08.563Z"
   },
   {
    "duration": 278,
    "start_time": "2024-11-07T02:51:08.704Z"
   },
   {
    "duration": 525,
    "start_time": "2024-11-07T02:51:08.984Z"
   },
   {
    "duration": 7,
    "start_time": "2024-11-07T02:51:09.511Z"
   },
   {
    "duration": 4,
    "start_time": "2024-11-07T02:51:09.520Z"
   },
   {
    "duration": 453,
    "start_time": "2024-11-07T02:51:09.525Z"
   },
   {
    "duration": 5983,
    "start_time": "2024-11-07T02:51:09.980Z"
   },
   {
    "duration": 779,
    "start_time": "2024-11-07T02:51:15.964Z"
   },
   {
    "duration": 37830,
    "start_time": "2024-11-07T02:51:16.747Z"
   },
   {
    "duration": 63720,
    "start_time": "2024-11-07T02:51:54.578Z"
   },
   {
    "duration": 503,
    "start_time": "2024-11-07T02:52:58.299Z"
   },
   {
    "duration": 6,
    "start_time": "2024-11-07T02:52:58.804Z"
   },
   {
    "duration": 221,
    "start_time": "2024-11-07T02:52:58.811Z"
   },
   {
    "duration": 101,
    "start_time": "2024-11-07T02:52:59.033Z"
   },
   {
    "duration": 10,
    "start_time": "2024-11-07T02:52:59.136Z"
   },
   {
    "duration": 4,
    "start_time": "2024-11-07T02:52:59.148Z"
   },
   {
    "duration": 375,
    "start_time": "2024-11-07T02:52:59.153Z"
   },
   {
    "duration": 0,
    "start_time": "2024-11-07T02:52:59.530Z"
   },
   {
    "duration": 0,
    "start_time": "2024-11-07T02:52:59.531Z"
   },
   {
    "duration": 5,
    "start_time": "2024-11-07T03:01:58.115Z"
   },
   {
    "duration": 394,
    "start_time": "2024-11-07T03:01:59.490Z"
   },
   {
    "duration": 174,
    "start_time": "2024-11-07T05:01:18.142Z"
   },
   {
    "duration": 3153,
    "start_time": "2024-11-07T05:01:23.562Z"
   },
   {
    "duration": 27,
    "start_time": "2024-11-07T05:01:28.434Z"
   },
   {
    "duration": 9,
    "start_time": "2024-11-07T05:01:28.965Z"
   },
   {
    "duration": 19,
    "start_time": "2024-11-07T05:01:30.525Z"
   },
   {
    "duration": 7,
    "start_time": "2024-11-07T05:01:31.609Z"
   },
   {
    "duration": 209,
    "start_time": "2024-11-07T05:01:40.499Z"
   },
   {
    "duration": 157,
    "start_time": "2024-11-07T05:01:40.917Z"
   },
   {
    "duration": 332,
    "start_time": "2024-11-07T05:01:42.058Z"
   },
   {
    "duration": 535,
    "start_time": "2024-11-07T05:01:42.651Z"
   },
   {
    "duration": 10,
    "start_time": "2024-11-07T05:01:45.616Z"
   },
   {
    "duration": 5,
    "start_time": "2024-11-07T05:01:52.007Z"
   },
   {
    "duration": 806,
    "start_time": "2024-11-07T05:01:56.900Z"
   },
   {
    "duration": 6,
    "start_time": "2024-11-07T05:03:53.830Z"
   },
   {
    "duration": 121,
    "start_time": "2024-11-07T05:04:04.140Z"
   },
   {
    "duration": 3,
    "start_time": "2024-11-07T05:04:29.329Z"
   },
   {
    "duration": 398,
    "start_time": "2024-11-07T05:04:37.031Z"
   },
   {
    "duration": 25,
    "start_time": "2024-11-07T05:06:26.815Z"
   },
   {
    "duration": 9,
    "start_time": "2024-11-07T05:06:27.380Z"
   },
   {
    "duration": 13,
    "start_time": "2024-11-07T05:06:30.542Z"
   },
   {
    "duration": 8,
    "start_time": "2024-11-07T05:06:31.074Z"
   },
   {
    "duration": 204,
    "start_time": "2024-11-07T05:06:36.248Z"
   },
   {
    "duration": 196,
    "start_time": "2024-11-07T05:06:36.857Z"
   },
   {
    "duration": 277,
    "start_time": "2024-11-07T05:06:38.230Z"
   },
   {
    "duration": 571,
    "start_time": "2024-11-07T05:06:38.841Z"
   },
   {
    "duration": 6,
    "start_time": "2024-11-07T05:06:43.641Z"
   },
   {
    "duration": 9,
    "start_time": "2024-11-07T05:06:53.712Z"
   },
   {
    "duration": 88,
    "start_time": "2024-11-07T05:06:54.448Z"
   },
   {
    "duration": 7,
    "start_time": "2024-11-07T05:07:24.296Z"
   },
   {
    "duration": 15,
    "start_time": "2024-11-07T05:07:49.453Z"
   },
   {
    "duration": 5,
    "start_time": "2024-11-07T05:08:42.722Z"
   },
   {
    "duration": 6,
    "start_time": "2024-11-07T05:08:51.531Z"
   },
   {
    "duration": 3,
    "start_time": "2024-11-07T05:08:52.062Z"
   },
   {
    "duration": 17,
    "start_time": "2024-11-07T05:09:14.497Z"
   },
   {
    "duration": 61,
    "start_time": "2024-11-07T05:10:03.672Z"
   },
   {
    "duration": 234,
    "start_time": "2024-11-07T05:13:13.161Z"
   },
   {
    "duration": 9,
    "start_time": "2024-11-07T05:15:43.399Z"
   },
   {
    "duration": 6,
    "start_time": "2024-11-07T05:15:45.155Z"
   },
   {
    "duration": 61,
    "start_time": "2024-11-07T05:15:46.061Z"
   },
   {
    "duration": 7,
    "start_time": "2024-11-07T05:15:58.390Z"
   },
   {
    "duration": 6,
    "start_time": "2024-11-07T05:15:59.054Z"
   },
   {
    "duration": 3,
    "start_time": "2024-11-07T05:16:05.973Z"
   },
   {
    "duration": 154,
    "start_time": "2024-11-07T05:16:07.579Z"
   },
   {
    "duration": 10,
    "start_time": "2024-11-07T05:17:24.019Z"
   },
   {
    "duration": 7,
    "start_time": "2024-11-07T05:17:35.310Z"
   },
   {
    "duration": 7,
    "start_time": "2024-11-07T05:17:40.364Z"
   },
   {
    "duration": 2,
    "start_time": "2024-11-07T05:17:42.613Z"
   },
   {
    "duration": 6957,
    "start_time": "2024-11-07T05:17:49.197Z"
   },
   {
    "duration": 38293,
    "start_time": "2024-11-07T05:18:46.741Z"
   },
   {
    "duration": 3,
    "start_time": "2024-11-07T05:19:58.367Z"
   },
   {
    "duration": 473,
    "start_time": "2024-11-07T05:20:18.948Z"
   },
   {
    "duration": 8,
    "start_time": "2024-11-07T05:22:16.862Z"
   },
   {
    "duration": 7,
    "start_time": "2024-11-07T05:22:18.016Z"
   },
   {
    "duration": 3,
    "start_time": "2024-11-07T05:22:18.918Z"
   },
   {
    "duration": 6904,
    "start_time": "2024-11-07T05:22:19.992Z"
   },
   {
    "duration": 982,
    "start_time": "2024-11-07T05:25:05.507Z"
   },
   {
    "duration": 4,
    "start_time": "2024-11-07T05:26:56.745Z"
   },
   {
    "duration": 19,
    "start_time": "2024-11-07T05:26:57.412Z"
   },
   {
    "duration": 8,
    "start_time": "2024-11-07T05:26:57.982Z"
   },
   {
    "duration": 13,
    "start_time": "2024-11-07T05:26:58.975Z"
   },
   {
    "duration": 7,
    "start_time": "2024-11-07T05:26:59.443Z"
   },
   {
    "duration": 200,
    "start_time": "2024-11-07T05:27:00.820Z"
   },
   {
    "duration": 146,
    "start_time": "2024-11-07T05:27:01.284Z"
   },
   {
    "duration": 376,
    "start_time": "2024-11-07T05:27:02.252Z"
   },
   {
    "duration": 478,
    "start_time": "2024-11-07T05:27:02.709Z"
   },
   {
    "duration": 6,
    "start_time": "2024-11-07T05:27:04.890Z"
   },
   {
    "duration": 4,
    "start_time": "2024-11-07T05:27:06.758Z"
   },
   {
    "duration": 421,
    "start_time": "2024-11-07T05:27:08.460Z"
   },
   {
    "duration": 4749,
    "start_time": "2024-11-07T05:27:09.029Z"
   },
   {
    "duration": 624,
    "start_time": "2024-11-07T05:27:13.780Z"
   },
   {
    "duration": 38290,
    "start_time": "2024-11-07T05:27:16.540Z"
   },
   {
    "duration": 63787,
    "start_time": "2024-11-07T05:28:24.411Z"
   },
   {
    "duration": 435,
    "start_time": "2024-11-07T05:30:08.273Z"
   },
   {
    "duration": 6,
    "start_time": "2024-11-07T05:30:09.746Z"
   },
   {
    "duration": 220,
    "start_time": "2024-11-07T05:30:12.083Z"
   },
   {
    "duration": 92,
    "start_time": "2024-11-07T05:30:17.308Z"
   },
   {
    "duration": 7,
    "start_time": "2024-11-07T05:30:20.146Z"
   },
   {
    "duration": 3,
    "start_time": "2024-11-07T05:30:21.781Z"
   },
   {
    "duration": 10,
    "start_time": "2024-11-07T05:31:00.576Z"
   },
   {
    "duration": 7,
    "start_time": "2024-11-07T05:31:03.192Z"
   },
   {
    "duration": 2,
    "start_time": "2024-11-07T05:31:04.437Z"
   },
   {
    "duration": 6868,
    "start_time": "2024-11-07T05:31:06.989Z"
   },
   {
    "duration": 894,
    "start_time": "2024-11-07T05:31:24.797Z"
   },
   {
    "duration": 395,
    "start_time": "2024-11-07T05:31:35.717Z"
   },
   {
    "duration": 595,
    "start_time": "2024-11-07T05:34:46.211Z"
   },
   {
    "duration": 168,
    "start_time": "2024-11-07T05:39:57.885Z"
   },
   {
    "duration": 6887,
    "start_time": "2024-11-07T05:41:42.966Z"
   },
   {
    "duration": 852,
    "start_time": "2024-11-07T05:42:38.143Z"
   },
   {
    "duration": 1087,
    "start_time": "2024-11-07T07:06:43.217Z"
   },
   {
    "duration": 27,
    "start_time": "2024-11-07T07:06:44.307Z"
   },
   {
    "duration": 12,
    "start_time": "2024-11-07T07:06:44.335Z"
   },
   {
    "duration": 14,
    "start_time": "2024-11-07T07:06:44.348Z"
   },
   {
    "duration": 7,
    "start_time": "2024-11-07T07:06:44.364Z"
   },
   {
    "duration": 231,
    "start_time": "2024-11-07T07:06:44.372Z"
   },
   {
    "duration": 152,
    "start_time": "2024-11-07T07:06:44.605Z"
   },
   {
    "duration": 285,
    "start_time": "2024-11-07T07:06:44.759Z"
   },
   {
    "duration": 504,
    "start_time": "2024-11-07T07:06:45.046Z"
   },
   {
    "duration": 8,
    "start_time": "2024-11-07T07:06:45.551Z"
   },
   {
    "duration": 3,
    "start_time": "2024-11-07T07:06:45.561Z"
   },
   {
    "duration": 408,
    "start_time": "2024-11-07T07:06:45.567Z"
   },
   {
    "duration": 6073,
    "start_time": "2024-11-07T07:06:45.976Z"
   },
   {
    "duration": 627,
    "start_time": "2024-11-07T07:06:52.054Z"
   },
   {
    "duration": 37811,
    "start_time": "2024-11-07T07:06:52.684Z"
   },
   {
    "duration": 64397,
    "start_time": "2024-11-07T07:07:30.497Z"
   },
   {
    "duration": 503,
    "start_time": "2024-11-07T07:08:34.896Z"
   },
   {
    "duration": 5,
    "start_time": "2024-11-07T07:08:35.400Z"
   },
   {
    "duration": 225,
    "start_time": "2024-11-07T07:08:35.407Z"
   },
   {
    "duration": 108,
    "start_time": "2024-11-07T07:08:35.634Z"
   },
   {
    "duration": 6,
    "start_time": "2024-11-07T07:08:35.744Z"
   },
   {
    "duration": 4,
    "start_time": "2024-11-07T07:08:35.753Z"
   },
   {
    "duration": 7,
    "start_time": "2024-11-07T07:08:35.760Z"
   },
   {
    "duration": 6,
    "start_time": "2024-11-07T07:08:35.769Z"
   },
   {
    "duration": 3,
    "start_time": "2024-11-07T07:08:35.777Z"
   },
   {
    "duration": 7058,
    "start_time": "2024-11-07T07:08:35.781Z"
   },
   {
    "duration": 1117,
    "start_time": "2024-11-07T07:08:42.842Z"
   },
   {
    "duration": 5,
    "start_time": "2024-11-07T07:08:43.962Z"
   },
   {
    "duration": 206,
    "start_time": "2024-11-07T07:08:43.968Z"
   },
   {
    "duration": 660,
    "start_time": "2024-11-07T07:13:47.769Z"
   },
   {
    "duration": 9,
    "start_time": "2024-11-07T07:14:13.643Z"
   },
   {
    "duration": 8,
    "start_time": "2024-11-07T07:14:42.344Z"
   },
   {
    "duration": 19,
    "start_time": "2024-11-07T07:14:49.485Z"
   },
   {
    "duration": 11,
    "start_time": "2024-11-07T07:14:58.014Z"
   },
   {
    "duration": 9,
    "start_time": "2024-11-07T07:15:01.858Z"
   },
   {
    "duration": 9,
    "start_time": "2024-11-07T07:15:10.398Z"
   },
   {
    "duration": 124094,
    "start_time": "2024-11-07T07:17:02.604Z"
   },
   {
    "duration": 21,
    "start_time": "2024-11-07T07:20:13.371Z"
   },
   {
    "duration": 25735,
    "start_time": "2024-11-07T07:20:17.769Z"
   },
   {
    "duration": 9,
    "start_time": "2024-11-07T07:24:27.740Z"
   },
   {
    "duration": 10,
    "start_time": "2024-11-07T07:29:03.396Z"
   },
   {
    "duration": 4,
    "start_time": "2024-11-07T07:31:14.310Z"
   },
   {
    "duration": 4,
    "start_time": "2024-11-07T07:31:21.254Z"
   },
   {
    "duration": 8,
    "start_time": "2024-11-07T07:32:35.873Z"
   },
   {
    "duration": 108,
    "start_time": "2024-11-07T07:34:26.868Z"
   },
   {
    "duration": 95,
    "start_time": "2024-11-07T07:36:22.700Z"
   },
   {
    "duration": 9,
    "start_time": "2024-11-07T07:36:56.644Z"
   },
   {
    "duration": 18,
    "start_time": "2024-11-07T07:37:38.161Z"
   },
   {
    "duration": 56,
    "start_time": "2024-11-07T07:37:58.187Z"
   },
   {
    "duration": 69,
    "start_time": "2024-11-07T07:38:43.592Z"
   },
   {
    "duration": 8,
    "start_time": "2024-11-07T07:38:48.141Z"
   },
   {
    "duration": 86,
    "start_time": "2024-11-07T07:39:31.362Z"
   },
   {
    "duration": 4,
    "start_time": "2024-11-07T07:39:51.172Z"
   },
   {
    "duration": 65,
    "start_time": "2024-11-07T07:40:52.878Z"
   },
   {
    "duration": 9,
    "start_time": "2024-11-07T07:41:10.190Z"
   },
   {
    "duration": 4,
    "start_time": "2024-11-07T07:41:27.183Z"
   },
   {
    "duration": 7,
    "start_time": "2024-11-07T07:41:38.100Z"
   },
   {
    "duration": 6,
    "start_time": "2024-11-07T07:42:55.295Z"
   },
   {
    "duration": 16,
    "start_time": "2024-11-07T07:43:17.223Z"
   },
   {
    "duration": 13,
    "start_time": "2024-11-07T07:43:49.415Z"
   },
   {
    "duration": 12,
    "start_time": "2024-11-07T07:43:55.937Z"
   },
   {
    "duration": 38608,
    "start_time": "2024-11-07T07:46:50.010Z"
   },
   {
    "duration": 38392,
    "start_time": "2024-11-07T07:49:08.279Z"
   },
   {
    "duration": 11741,
    "start_time": "2024-11-07T07:52:42.317Z"
   },
   {
    "duration": 6,
    "start_time": "2024-11-07T07:54:47.435Z"
   },
   {
    "duration": 33171,
    "start_time": "2024-11-07T07:56:59.846Z"
   },
   {
    "duration": 70532,
    "start_time": "2024-11-07T07:57:34.737Z"
   },
   {
    "duration": 118634,
    "start_time": "2024-11-07T08:05:36.356Z"
   },
   {
    "duration": 11876,
    "start_time": "2024-11-07T08:09:26.609Z"
   },
   {
    "duration": 13654,
    "start_time": "2024-11-07T08:10:27.592Z"
   },
   {
    "duration": 14076,
    "start_time": "2024-11-07T08:10:51.788Z"
   },
   {
    "duration": 104211,
    "start_time": "2024-11-07T08:11:12.350Z"
   },
   {
    "duration": 56,
    "start_time": "2024-11-07T08:12:56.563Z"
   },
   {
    "duration": 6446,
    "start_time": "2024-11-07T08:15:20.164Z"
   },
   {
    "duration": 3,
    "start_time": "2024-11-07T08:15:29.948Z"
   },
   {
    "duration": 20,
    "start_time": "2024-11-07T08:15:29.953Z"
   },
   {
    "duration": 7,
    "start_time": "2024-11-07T08:15:29.975Z"
   },
   {
    "duration": 11,
    "start_time": "2024-11-07T08:15:29.983Z"
   },
   {
    "duration": 6,
    "start_time": "2024-11-07T08:15:29.997Z"
   },
   {
    "duration": 226,
    "start_time": "2024-11-07T08:15:30.004Z"
   },
   {
    "duration": 143,
    "start_time": "2024-11-07T08:15:30.231Z"
   },
   {
    "duration": 279,
    "start_time": "2024-11-07T08:15:30.375Z"
   },
   {
    "duration": 503,
    "start_time": "2024-11-07T08:15:30.656Z"
   },
   {
    "duration": 7,
    "start_time": "2024-11-07T08:15:31.161Z"
   },
   {
    "duration": 3,
    "start_time": "2024-11-07T08:15:31.170Z"
   },
   {
    "duration": 571,
    "start_time": "2024-11-07T08:15:31.175Z"
   },
   {
    "duration": 3993,
    "start_time": "2024-11-07T08:15:31.750Z"
   },
   {
    "duration": 617,
    "start_time": "2024-11-07T08:15:35.748Z"
   },
   {
    "duration": 38230,
    "start_time": "2024-11-07T08:15:36.367Z"
   },
   {
    "duration": 63614,
    "start_time": "2024-11-07T08:16:14.599Z"
   },
   {
    "duration": 448,
    "start_time": "2024-11-07T08:17:18.215Z"
   },
   {
    "duration": 5,
    "start_time": "2024-11-07T08:17:18.665Z"
   },
   {
    "duration": 12,
    "start_time": "2024-11-07T08:17:18.673Z"
   },
   {
    "duration": 38800,
    "start_time": "2024-11-07T08:17:18.687Z"
   },
   {
    "duration": 215,
    "start_time": "2024-11-07T08:17:57.489Z"
   },
   {
    "duration": 103,
    "start_time": "2024-11-07T08:17:57.706Z"
   },
   {
    "duration": 7,
    "start_time": "2024-11-07T08:17:57.811Z"
   },
   {
    "duration": 4,
    "start_time": "2024-11-07T08:17:57.819Z"
   },
   {
    "duration": 22,
    "start_time": "2024-11-07T08:17:57.824Z"
   },
   {
    "duration": 6,
    "start_time": "2024-11-07T08:17:57.848Z"
   },
   {
    "duration": 2,
    "start_time": "2024-11-07T08:17:57.855Z"
   },
   {
    "duration": 6885,
    "start_time": "2024-11-07T08:17:57.859Z"
   },
   {
    "duration": 104197,
    "start_time": "2024-11-07T08:18:04.746Z"
   },
   {
    "duration": 1138,
    "start_time": "2024-11-07T08:20:18.505Z"
   },
   {
    "duration": 24,
    "start_time": "2024-11-07T08:20:19.646Z"
   },
   {
    "duration": 8,
    "start_time": "2024-11-07T08:20:19.672Z"
   },
   {
    "duration": 13,
    "start_time": "2024-11-07T08:20:19.682Z"
   },
   {
    "duration": 7,
    "start_time": "2024-11-07T08:20:19.698Z"
   },
   {
    "duration": 235,
    "start_time": "2024-11-07T08:20:19.707Z"
   },
   {
    "duration": 134,
    "start_time": "2024-11-07T08:20:19.946Z"
   },
   {
    "duration": 276,
    "start_time": "2024-11-07T08:20:20.082Z"
   },
   {
    "duration": 495,
    "start_time": "2024-11-07T08:20:20.360Z"
   },
   {
    "duration": 8,
    "start_time": "2024-11-07T08:20:20.857Z"
   },
   {
    "duration": 3,
    "start_time": "2024-11-07T08:20:20.867Z"
   },
   {
    "duration": 471,
    "start_time": "2024-11-07T08:20:20.872Z"
   },
   {
    "duration": 4711,
    "start_time": "2024-11-07T08:20:21.345Z"
   },
   {
    "duration": 683,
    "start_time": "2024-11-07T08:20:26.060Z"
   },
   {
    "duration": 38156,
    "start_time": "2024-11-07T08:20:26.745Z"
   },
   {
    "duration": 63270,
    "start_time": "2024-11-07T08:21:04.903Z"
   },
   {
    "duration": 434,
    "start_time": "2024-11-07T08:22:08.174Z"
   },
   {
    "duration": 6,
    "start_time": "2024-11-07T08:22:08.609Z"
   },
   {
    "duration": 28,
    "start_time": "2024-11-07T08:22:08.616Z"
   },
   {
    "duration": 38369,
    "start_time": "2024-11-07T08:22:08.645Z"
   },
   {
    "duration": 228,
    "start_time": "2024-11-07T08:22:47.015Z"
   },
   {
    "duration": 99,
    "start_time": "2024-11-07T08:22:47.245Z"
   },
   {
    "duration": 7,
    "start_time": "2024-11-07T08:22:47.346Z"
   },
   {
    "duration": 5,
    "start_time": "2024-11-07T08:22:47.355Z"
   },
   {
    "duration": 8,
    "start_time": "2024-11-07T08:22:47.361Z"
   },
   {
    "duration": 6,
    "start_time": "2024-11-07T08:22:47.370Z"
   },
   {
    "duration": 3,
    "start_time": "2024-11-07T08:22:47.377Z"
   },
   {
    "duration": 6923,
    "start_time": "2024-11-07T08:22:47.381Z"
   },
   {
    "duration": 102877,
    "start_time": "2024-11-07T08:22:54.305Z"
   },
   {
    "duration": 16522,
    "start_time": "2024-11-07T08:24:37.184Z"
   },
   {
    "duration": 1025,
    "start_time": "2024-11-07T08:24:53.743Z"
   },
   {
    "duration": 4,
    "start_time": "2024-11-07T08:24:54.771Z"
   },
   {
    "duration": 240,
    "start_time": "2024-11-07T08:24:54.777Z"
   },
   {
    "duration": 5,
    "start_time": "2024-11-07T08:32:45.796Z"
   },
   {
    "duration": 193,
    "start_time": "2024-11-07T08:33:38.836Z"
   }
  ],
  "kernelspec": {
   "display_name": "Python 3 (ipykernel)",
   "language": "python",
   "name": "python3"
  },
  "language_info": {
   "codemirror_mode": {
    "name": "ipython",
    "version": 3
   },
   "file_extension": ".py",
   "mimetype": "text/x-python",
   "name": "python",
   "nbconvert_exporter": "python",
   "pygments_lexer": "ipython3",
   "version": "3.9.19"
  },
  "toc": {
   "base_numbering": 1,
   "nav_menu": {},
   "number_sections": true,
   "sideBar": true,
   "skip_h1_title": true,
   "title_cell": "Table of Contents",
   "title_sidebar": "Contents",
   "toc_cell": false,
   "toc_position": {
    "height": "calc(100% - 180px)",
    "left": "10px",
    "top": "150px",
    "width": "225.6px"
   },
   "toc_section_display": true,
   "toc_window_display": true
  }
 },
 "nbformat": 4,
 "nbformat_minor": 2
}
